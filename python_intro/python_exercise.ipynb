{
 "cells": [
  {
   "cell_type": "markdown",
   "id": "following-adaptation",
   "metadata": {
    "nbgrader": {
     "grade": false,
     "grade_id": "cell-324029af9978484e",
     "locked": true,
     "schema_version": 3,
     "solution": false,
     "task": false
    }
   },
   "source": [
    "## How to solve this entry test?\n",
    "\n",
    "This test uses a python module that permits us to grade your code automatically.\n",
    "Each exercise uses a *function* to evaluate your code.\n",
    "\n",
    "A *function* is a block of code which runs when it is called. It accepts input parameters and it can return data as a result. *Functions* are defined with the keyword `def`. Example:\n",
    "\n",
    "```python\n",
    "def function(input_value):\n",
    "    # do something with the input\n",
    "    output_value = input_value\n",
    "    return output_value\n",
    "```\n",
    "\n",
    "To do these tasks you have to write your code after the doc string comment and run each of the cells. Remember to take care of the indentation (4 spaces)."
   ]
  },
  {
   "cell_type": "markdown",
   "id": "encouraging-details",
   "metadata": {
    "nbgrader": {
     "grade": false,
     "grade_id": "cell-3da0fcf037c21851",
     "locked": true,
     "schema_version": 3,
     "solution": false,
     "task": false
    }
   },
   "source": [
    "### Task 1\n",
    "\n",
    "### Fibonacci numbers\n",
    "$$ {F_n} = {F_{n-1}} + F_{n-2} $$\n",
    "where $$F_0 = 0$$ and $$F_1 = 1 $$\n",
    "\n",
    "The beginning of the sequence: 0,1,1,2,3,5,8,... <br>\n",
    "https://en.wikipedia.org/wiki/Fibonacci_number\n",
    "\n",
    "**write a function that**:\n",
    "- for a given integer number returns which Fibonacci number it is\n",
    "  for example, 2 is the third Fibonacci number; 5 is the 5th, 8 is the 6th)\n",
    "- returns None, if not a Fibonacci number\n"
   ]
  },
  {
   "cell_type": "code",
   "execution_count": 1,
   "id": "german-fellow",
   "metadata": {
    "nbgrader": {
     "grade": false,
     "grade_id": "cell-fa50989715e59d49",
     "locked": false,
     "schema_version": 3,
     "solution": true,
     "task": false
    }
   },
   "outputs": [],
   "source": [
    "# write a function that for a given integer number returns which Fibonacci number it is\n",
    "# for example, 2 is the third Fibonacci number; 5 is the 5th, 8 is the 6th)\n",
    "# if not a Fibonacci number, return None\n",
    "def check_if_Fib(n):\n",
    "    \"\"\"\n",
    "    input n - integer\n",
    "    output - integer\n",
    "    if an input number is not a Fibonacci number, return None\n",
    "    \n",
    "    Note: even though 1 is both the first and second Fib number, return 1\"\"\"\n",
    "    ### BEGIN SOLUTION \n",
    "    fib_num = [0,1]\n",
    "    if n in fib_num:\n",
    "        return fib_num.index(n)\n",
    "    c = 1\n",
    "    while fib_num[-1] < n:\n",
    "        Fn_2 = fib_num.pop(0)\n",
    "        fib_num.append(fib_num[0] + Fn_2)\n",
    "        c+=1\n",
    "    if n == fib_num[-1]:\n",
    "        return c\n",
    "    else:return None\n",
    "    ### END SOLUTION"
   ]
  },
  {
   "cell_type": "code",
   "execution_count": 2,
   "id": "stable-benefit",
   "metadata": {
    "nbgrader": {
     "grade": false,
     "grade_id": "cell-0d50eecac6f262f5",
     "locked": true,
     "schema_version": 3,
     "solution": false,
     "task": false
    }
   },
   "outputs": [
    {
     "data": {
      "text/plain": [
       "(0, 1, 3, 4, None)"
      ]
     },
     "execution_count": 2,
     "metadata": {},
     "output_type": "execute_result"
    }
   ],
   "source": [
    "# check your solution\n",
    "check_if_Fib(0), check_if_Fib(1), check_if_Fib(2), check_if_Fib(3), check_if_Fib(4)\n",
    "# expected result\n",
    "# (0, 1, 3, 4, None)"
   ]
  },
  {
   "cell_type": "code",
   "execution_count": 3,
   "id": "emerging-calendar",
   "metadata": {
    "nbgrader": {
     "grade": true,
     "grade_id": "cell-afb96e0816dab744",
     "locked": true,
     "points": 2,
     "schema_version": 3,
     "solution": false,
     "task": false
    }
   },
   "outputs": [],
   "source": [
    "# grading your solution\n",
    "assert check_if_Fib(0) == 0\n",
    "assert check_if_Fib(4) is None\n",
    "### BEGIN HIDDEN TESTS\n",
    "def solution_fnc_check_if_Fib(n):\n",
    "    fib_num = [0,1]\n",
    "    if n in fib_num:\n",
    "        return fib_num.index(n)\n",
    "    c = 1\n",
    "    while fib_num[-1] < n:\n",
    "        Fn_2 = fib_num.pop(0)\n",
    "        fib_num.append(fib_num[0] + Fn_2)\n",
    "        c+=1\n",
    "    if n == fib_num[-1]:\n",
    "        return c\n",
    "    else:return None\n",
    "\n",
    "for i in range(20):\n",
    "    assert check_if_Fib(i) == solution_fnc_check_if_Fib(i)\n",
    "### END HIDDEN TESTS"
   ]
  },
  {
   "cell_type": "markdown",
   "id": "finnish-guide",
   "metadata": {
    "nbgrader": {
     "grade": false,
     "grade_id": "cell-f40173d77b17ed16",
     "locked": true,
     "schema_version": 3,
     "solution": false,
     "task": false
    }
   },
   "source": [
    "### Task 2\n",
    "\n",
    "### FASTA information\n",
    "\n",
    "\"In bioinformatics and biochemistry, the FASTA format is a text-based format for representing either nucleotide sequences or amino acid (protein) sequences, in which nucleotides or amino acids are represented using single-letter codes.\" \n",
    "\n",
    "\"The description line (defline) or header/identifier line, which begins with '>', gives a name and/or a unique identifier for the sequence, and may also contain additional information.\" [https://en.wikipedia.org/wiki/FASTA_format]\n",
    "\n",
    "UniProt is a freely accessible database of protein sequence and functional information, many entries being derived from genome sequencing projects. It contains a large amount of information about the biological function of proteins derived from the research literature. [https://en.wikipedia.org/wiki/UniProt]\n",
    "\n",
    "The format of the Uniprot Fasta headers is:\n",
    "\n",
    "    >db|UniqueIdentifier|EntryName ProteinName OS=OrganismName OX=OrganismIdentifier [GN=GeneName ]PE=ProteinExistence SV=SequenceVersion\n",
    "\n",
    "[https://www.uniprot.org/help/fasta-headers]\n",
    "\n",
    "**write a function that**:\n",
    "\n",
    "- gets a list of the Organism Names `OrganismName` from a given fasta file `fasta`\n"
   ]
  },
  {
   "cell_type": "code",
   "execution_count": 4,
   "id": "exact-washer",
   "metadata": {
    "nbgrader": {
     "grade": false,
     "grade_id": "cell-fb8741bd478dc6a0",
     "locked": true,
     "schema_version": 3,
     "solution": false,
     "task": false
    }
   },
   "outputs": [
    {
     "name": "stdout",
     "output_type": "stream",
     "text": [
      "Overwriting viruses.fa\n"
     ]
    }
   ],
   "source": [
    "%%writefile viruses.fa\n",
    ">sp|P23046|NSP5_ROTBV Non-structural protein 5 OS=Rotavirus A (isolate RVA/Cow/United States/VMRI/1988/G6P[5]) OX=10935 PE=3 SV=1\n",
    "MSLSIDVTSLPSFSSSIYKNESSATASTLSGKSIGRSVQYVSPDAEAFSKYMLSKSPEDI\n",
    "GPSDSASNDPLTSFSIRSNAVKTNADAGVSMDSSVQSRPSINVGCDQVDFSFNKGIKVNA\n",
    "NLDSSISVSTNSRKEKSKGDRKSRKHYPKIEAESDSDEYVLDDSDSDDGKCRNCKYKRKY\n",
    "FALRMRMKQVAMQLIEDL\n",
    ">sp|Q81835|SHDAG_HDVU2 Small delta antigen OS=Hepatitis delta virus genotype I (isolate US-2) OX=261991 PE=3 SV=2\n",
    "MSRSESKKNRGGREEILEQWVGARKKLEELERDLRKIKKKIKKLEEENPWLGNIKGILGK\n",
    "KDREGEGAPPAKRARADQMEVDSGPRKRPFRGEFTDKERRDHRRRKALENKRKQLSSGGK\n",
    "SLSKEEEEELRKLTEEDERRERRVAGPRVGGVNPLEGGTRGAPGGGFVPSMQGVPESPFA\n",
    "RTGEGLDVRGNQGFP\n",
    ">sp|A5HBD7|ST_POVWU Small t antigen OS=WU polyomavirus OX=440266 PE=3 SV=1\n",
    "MDKTLSRNEAKELMQLLGLDMTCWGNLPLMRTKYLSKCKEFHPDKGGNEEKMKKLNSLYL\n",
    "KLQECVSTVHQLNEEEDEVWSSSQVECTELCCNFPPRKYRLVGEVYGDVFEEYILKDWDI\n",
    "CLKGFYYLCNCFYCFLDKRHKQKYKIFRKPPMWIECYCYRCYREWFGFEISAETFFYWKK\n",
    "IIFLTTMQGVGLTR\n",
    ">sp|Q91FT8|234R_IIV6 Uncharacterized protein 234R OS=Invertebrate iridescent virus 6 OX=176652 GN=IIV6-234R PE=4 SV=1\n",
    "MNRSDKITLDQIKKLVPINADLINFAADVKVSAATDNPFLMAVVSQDMLESTTELPYKSI\n",
    "QKQVSLTVRNDNNVYQPYVLVLKSDFPQEAIVTINLQETPLVTASGCGRQTTIYPPALNG\n",
    "NGNGNGNGVVAPAYVSAVGGAPTDDTTQWYKDWRYWAVIALIAAVLIYLYMKSKKGSGEE\n",
    "QPVVIEMSRYSNA"
   ]
  },
  {
   "cell_type": "code",
   "execution_count": 5,
   "id": "royal-township",
   "metadata": {
    "nbgrader": {
     "grade": true,
     "grade_id": "cell-4293c3589a6814f7",
     "locked": false,
     "points": 0,
     "schema_version": 3,
     "solution": true,
     "task": false
    }
   },
   "outputs": [],
   "source": [
    "import re\n",
    "\n",
    "# write a function that parses fasta file format and extracts organism names of all entries\n",
    "def get_organism_names(fasta):\n",
    "    \"\"\"\n",
    "    input - fasta - file name (string)\n",
    "    outpur - list of organisms (strings)\"\"\"\n",
    "    ### BEGIN SOLUTION \n",
    "    names = []\n",
    "    with open(fasta, \"r\") as file:\n",
    "        for line in file:\n",
    "            line = line.strip()\n",
    "            if line.startswith(\">\"):\n",
    "                match = re.search(\".*?OS=(.*?) OX\", line)\n",
    "                names.append(match.group(1))\n",
    "    return names\n",
    "    ### END SOLUTION "
   ]
  },
  {
   "cell_type": "code",
   "execution_count": 6,
   "id": "subtle-malta",
   "metadata": {
    "nbgrader": {
     "grade": false,
     "grade_id": "cell-ed140387aa68987d",
     "locked": true,
     "schema_version": 3,
     "solution": false,
     "task": false
    }
   },
   "outputs": [
    {
     "name": "stdout",
     "output_type": "stream",
     "text": [
      "['Rotavirus A (isolate RVA/Cow/United States/VMRI/1988/G6P[5])', 'Hepatitis delta virus genotype I (isolate US-2)', 'WU polyomavirus', 'Invertebrate iridescent virus 6']\n"
     ]
    },
    {
     "data": {
      "text/plain": [
       "\"\\n['Rotavirus A (isolate RVA/Cow/United States/VMRI/1988/G6P[5])',\\n'Hepatitis delta virus genotype I (isolate US-2)',\\n'WU polyomavirus',\\n'Invertebrate iridescent virus 6']\\n\""
      ]
     },
     "execution_count": 6,
     "metadata": {},
     "output_type": "execute_result"
    }
   ],
   "source": [
    "# check your results\n",
    "print(get_organism_names(\"viruses.fa\"))\n",
    "# expected result\n",
    "\"\"\"\n",
    "['Rotavirus A (isolate RVA/Cow/United States/VMRI/1988/G6P[5])',\n",
    "'Hepatitis delta virus genotype I (isolate US-2)',\n",
    "'WU polyomavirus',\n",
    "'Invertebrate iridescent virus 6']\n",
    "\"\"\""
   ]
  },
  {
   "cell_type": "code",
   "execution_count": 7,
   "id": "jewish-personal",
   "metadata": {
    "nbgrader": {
     "grade": true,
     "grade_id": "cell-56265c79ae538bf1",
     "locked": true,
     "points": 2,
     "schema_version": 3,
     "solution": false,
     "task": false
    }
   },
   "outputs": [],
   "source": [
    "# grading your results\n",
    "assert get_organism_names(\"viruses.fa\")[0] == 'Rotavirus A (isolate RVA/Cow/United States/VMRI/1988/G6P[5])'\n",
    "### BEGIN HIDDEN TESTS\n",
    "assert get_organism_names(\"viruses.fa\") == ['Rotavirus A (isolate RVA/Cow/United States/VMRI/1988/G6P[5])', 'Hepatitis delta virus genotype I (isolate US-2)', 'WU polyomavirus', 'Invertebrate iridescent virus 6']\n",
    "### END HIDDEN TESTS"
   ]
  },
  {
   "cell_type": "markdown",
   "id": "danish-transition",
   "metadata": {
    "nbgrader": {
     "grade": false,
     "grade_id": "cell-9dde10afc7c6e65e",
     "locked": true,
     "schema_version": 3,
     "solution": false,
     "task": false
    }
   },
   "source": [
    "### Task 3\n",
    "\n",
    "### Linear regression\n",
    "\n",
    "Calculate the linear regression of data.\n",
    "To generate the data needed run the cell below.\n",
    "This can take some seconds.\n",
    "\n",
    "**write a function that**:\n",
    "- fits the line\n",
    "- calculates the slope, intercept and $R^2$\n",
    "- plot the fitted line"
   ]
  },
  {
   "cell_type": "code",
   "execution_count": 8,
   "id": "equipped-chemistry",
   "metadata": {
    "nbgrader": {
     "grade": false,
     "grade_id": "cell-7a5a19822f387467",
     "locked": true,
     "schema_version": 3,
     "solution": false,
     "task": false
    }
   },
   "outputs": [
    {
     "data": {
      "image/png": "[encoded data removed]",
      "text/plain": [
       "<Figure size 432x288 with 1 Axes>"
      ]
     },
     "metadata": {
      "needs_background": "light"
     },
     "output_type": "display_data"
    }
   ],
   "source": [
    "from matplotlib import pyplot as plt\n",
    "import numpy as np\n",
    "\n",
    "# run this cell to generate the data used for fitting\n",
    "np.random.seed(100)\n",
    "x = np.linspace(0,100,101)\n",
    "y = 5*x + 21 + np.random.randn(101) * 21\n",
    "\n",
    "plt.scatter(x, y)\n",
    "plt.ylabel(\"y\")\n",
    "plt.xlabel(\"x\")\n",
    "plt.show()"
   ]
  },
  {
   "cell_type": "code",
   "execution_count": 9,
   "id": "israeli-listening",
   "metadata": {
    "nbgrader": {
     "grade": false,
     "grade_id": "cell-7dbaaab4abb2de44",
     "locked": false,
     "schema_version": 3,
     "solution": true,
     "task": false
    }
   },
   "outputs": [],
   "source": [
    "from scipy.stats import linregress\n",
    "\n",
    "def get_linear_regression(x, y):\n",
    "    \"\"\"\n",
    "    input - x and y arrays\n",
    "    output - slope, intercept, R^2 (all float)\n",
    "            \n",
    "            additionally, generate a plot with input data and fitted curve\n",
    "                (this can be done within the function or in an additional cell)\n",
    "    \"\"\"\n",
    "    ### BEGIN SOLUTION\n",
    "    xlin = np.linspace(x.min(), x.max(), 2)\n",
    "    \n",
    "    plt.scatter(x, y)\n",
    "    plt.ylabel(\"y\")\n",
    "    plt.xlabel(\"x\")\n",
    "    \n",
    "    lr = linregress(x, y)\n",
    "    slope, intercept, r2 = lr.slope, lr.intercept, lr.rvalue*lr.rvalue\n",
    "    \n",
    "    params_of_interest = slope, intercept, r2\n",
    "    line1 = '$y = {:.1f}x + {:.1f}$'\n",
    "    line2 = '$r^2 = {:.2f}$'\n",
    "    template_text = line1 + '\\n' + line2\n",
    "    plt.text(10, 400, template_text.format(*params_of_interest))\n",
    "    \n",
    "    plt.plot(xlin, xlin*lr.slope + lr.intercept, color=\"black\", linewidth=3.)\n",
    "    #plt.savefig(\"linregress.png\")\n",
    "    plt.show()\n",
    "    return slope, intercept, r2\n",
    "    ### END SOLUTION"
   ]
  },
  {
   "cell_type": "code",
   "execution_count": 10,
   "id": "restricted-block",
   "metadata": {
    "nbgrader": {
     "grade": false,
     "grade_id": "cell-7e253c70b4e79906",
     "locked": true,
     "schema_version": 3,
     "solution": false,
     "task": false
    }
   },
   "outputs": [
    {
     "data": {
      "image/png": "[encoded data removed]",
      "text/plain": [
       "<Figure size 432x288 with 1 Axes>"
      ]
     },
     "metadata": {
      "needs_background": "light"
     },
     "output_type": "display_data"
    },
    {
     "data": {
      "text/plain": [
       "(4.93188834965833, 21.885325404276443, 0.9801946328296581)"
      ]
     },
     "execution_count": 10,
     "metadata": {},
     "output_type": "execute_result"
    }
   ],
   "source": [
    "# check your results\n",
    "get_linear_regression(x, y) # (4.93188834965833, 21.885325404276443, 0.9801946328296581)"
   ]
  },
  {
   "cell_type": "code",
   "execution_count": 11,
   "id": "differential-semiconductor",
   "metadata": {
    "nbgrader": {
     "grade": true,
     "grade_id": "cell-fba93bbab66e3507",
     "locked": true,
     "points": 2,
     "schema_version": 3,
     "solution": false,
     "task": false
    }
   },
   "outputs": [
    {
     "data": {
      "image/png": "[encoded data removed]",
      "text/plain": [
       "<Figure size 432x288 with 1 Axes>"
      ]
     },
     "metadata": {
      "needs_background": "light"
     },
     "output_type": "display_data"
    },
    {
     "data": {
      "image/png": "[encoded data removed]",
      "text/plain": [
       "<Figure size 432x288 with 1 Axes>"
      ]
     },
     "metadata": {
      "needs_background": "light"
     },
     "output_type": "display_data"
    }
   ],
   "source": [
    "# grading your results\n",
    "slope, intercept, r2 = get_linear_regression(x, y)\n",
    "np.testing.assert_almost_equal([slope, intercept, r2], [4.931, 21.885, 0.980], 3)\n",
    "### BEGIN HIDDEN TESTS\n",
    "np.random.seed(100)\n",
    "test_x = np.linspace(0,100,11)\n",
    "test_y = 6*test_x + 20\n",
    "test_slope, test_intercept, test_r2 = get_linear_regression(test_x, test_y)\n",
    "np.testing.assert_almost_equal([test_slope, test_intercept, test_r2], (6, 20, 1), 3)\n",
    "### END HIDDEN TESTS"
   ]
  },
  {
   "cell_type": "markdown",
   "id": "fundamental-wallet",
   "metadata": {},
   "source": [
    "Plot should look **like** this: \n",
    "    \n",
    "<img src=\"linregress.png\" alt=\"Drawing\"/>"
   ]
  },
  {
   "cell_type": "markdown",
   "id": "unexpected-anthropology",
   "metadata": {
    "nbgrader": {
     "grade": false,
     "grade_id": "cell-f3f4ad21dba0279c",
     "locked": true,
     "schema_version": 3,
     "solution": false,
     "task": false
    }
   },
   "source": [
    "### Task 4\n",
    "\n",
    "### Body Mass Index database\n",
    "\n",
    "Curate a database containing information about the weight (Kg) and height (cm) of different persons. Open the file using `pandas`. Rename/Translate the columns to english. Remove incompleted data (See `dropna` function). Use capitalize for names and surnames (See `str.capitalize` function). \n",
    "And finally, create a new column containing the Body Mass Index (BMI).\n",
    "\n",
    "Body mass index (BMI) is a value derived from the mass (weight) and height of a person. The BMI is defined as the body mass divided by the square of the body height, and is universally expressed in units of kg/m2, resulting from mass in kilograms and height in metres.\n",
    "\n",
    "$$\\mathrm{BMI} = \\frac{\\text{mass}_\\text{kg}}{{\\text{height}_\\text{m}}^2}$$\n",
    "\n",
    "[https://en.wikipedia.org/wiki/Body_mass_index]"
   ]
  },
  {
   "cell_type": "code",
   "execution_count": 12,
   "id": "dietary-party",
   "metadata": {
    "nbgrader": {
     "grade": false,
     "grade_id": "cell-931e93c15ee78f8d",
     "locked": true,
     "schema_version": 3,
     "solution": false,
     "task": false
    }
   },
   "outputs": [
    {
     "name": "stdout",
     "output_type": "stream",
     "text": [
      "Overwriting person_data.txt\n"
     ]
    }
   ],
   "source": [
    "%%writefile person_data.txt\n",
    "NACHNAME;Vorname;Größe;Gewicht\n",
    "REED;David;185;80.0\n",
    "JONES;Stephen;190;91\n",
    "WATSON;cynthia;174;73.0\n",
    "SMITH;Stephanie;149;52\n",
    "CARTER;Randy;;73\n",
    "GREEN;;184;82\n",
    "MORGAN;Jessie;175;75\n",
    "CARTER;katherine"
   ]
  },
  {
   "cell_type": "code",
   "execution_count": 13,
   "id": "promising-violation",
   "metadata": {
    "nbgrader": {
     "grade": false,
     "grade_id": "cell-9f2f022d91f5a1ad",
     "locked": false,
     "schema_version": 3,
     "solution": true,
     "task": false
    }
   },
   "outputs": [],
   "source": [
    "import pandas as pd\n",
    "\n",
    "def curate_persons_data(filename=\"person_data.txt\"):\n",
    "    \"\"\"\n",
    "    Input:\n",
    "        filename: data (string)\n",
    "    Output:\n",
    "        persons_df: curated data according to description (pandas DataFrame)\n",
    "    \"\"\"\n",
    "\n",
    "    ### BEGIN SOLUTION\n",
    "    persons_df = pd.read_csv(\"person_data.txt\", sep=\";\")\n",
    "    persons_df.rename(columns = {'NACHNAME':'surname'}, inplace = True)\n",
    "    persons_df.rename(columns = {'Vorname':'name'}, inplace = True)\n",
    "    persons_df.rename(columns = {'Größe':'height'}, inplace = True)\n",
    "    persons_df.rename(columns = {'Gewicht':'weight'}, inplace = True)\n",
    "    persons_df.rename(columns = {'Geschlecht':'gender'}, inplace = True)\n",
    "    persons_df = persons_df.dropna(axis=0, how='any')\n",
    "    persons_df[\"BMI\"] = np.round(persons_df[\"weight\"]/((persons_df[\"height\"]/100) **2),1)\n",
    "    persons_df[\"name\"] = persons_df[\"name\"].str.capitalize()\n",
    "    persons_df[\"surname\"] = persons_df[\"surname\"].str.capitalize()\n",
    "    persons_df = persons_df.set_index(\"surname\")\n",
    "    return persons_df\n",
    "    ### END SOLUTION"
   ]
  },
  {
   "cell_type": "code",
   "execution_count": 14,
   "id": "thermal-bearing",
   "metadata": {
    "nbgrader": {
     "grade": false,
     "grade_id": "cell-0611fc39149a59d5",
     "locked": true,
     "schema_version": 3,
     "solution": false,
     "task": false
    }
   },
   "outputs": [
    {
     "data": {
      "text/html": [
       "<div>\n",
       "<style scoped>\n",
       "    .dataframe tbody tr th:only-of-type {\n",
       "        vertical-align: middle;\n",
       "    }\n",
       "\n",
       "    .dataframe tbody tr th {\n",
       "        vertical-align: top;\n",
       "    }\n",
       "\n",
       "    .dataframe thead th {\n",
       "        text-align: right;\n",
       "    }\n",
       "</style>\n",
       "<table border=\"1\" class=\"dataframe\">\n",
       "  <thead>\n",
       "    <tr style=\"text-align: right;\">\n",
       "      <th></th>\n",
       "      <th>name</th>\n",
       "      <th>height</th>\n",
       "      <th>weight</th>\n",
       "      <th>BMI</th>\n",
       "    </tr>\n",
       "    <tr>\n",
       "      <th>surname</th>\n",
       "      <th></th>\n",
       "      <th></th>\n",
       "      <th></th>\n",
       "      <th></th>\n",
       "    </tr>\n",
       "  </thead>\n",
       "  <tbody>\n",
       "    <tr>\n",
       "      <th>Reed</th>\n",
       "      <td>David</td>\n",
       "      <td>185.0</td>\n",
       "      <td>80.0</td>\n",
       "      <td>23.4</td>\n",
       "    </tr>\n",
       "    <tr>\n",
       "      <th>Jones</th>\n",
       "      <td>Stephen</td>\n",
       "      <td>190.0</td>\n",
       "      <td>91.0</td>\n",
       "      <td>25.2</td>\n",
       "    </tr>\n",
       "    <tr>\n",
       "      <th>Watson</th>\n",
       "      <td>Cynthia</td>\n",
       "      <td>174.0</td>\n",
       "      <td>73.0</td>\n",
       "      <td>24.1</td>\n",
       "    </tr>\n",
       "    <tr>\n",
       "      <th>Smith</th>\n",
       "      <td>Stephanie</td>\n",
       "      <td>149.0</td>\n",
       "      <td>52.0</td>\n",
       "      <td>23.4</td>\n",
       "    </tr>\n",
       "    <tr>\n",
       "      <th>Morgan</th>\n",
       "      <td>Jessie</td>\n",
       "      <td>175.0</td>\n",
       "      <td>75.0</td>\n",
       "      <td>24.5</td>\n",
       "    </tr>\n",
       "  </tbody>\n",
       "</table>\n",
       "</div>"
      ],
      "text/plain": [
       "              name  height  weight   BMI\n",
       "surname                                 \n",
       "Reed         David   185.0    80.0  23.4\n",
       "Jones      Stephen   190.0    91.0  25.2\n",
       "Watson     Cynthia   174.0    73.0  24.1\n",
       "Smith    Stephanie   149.0    52.0  23.4\n",
       "Morgan      Jessie   175.0    75.0  24.5"
      ]
     },
     "execution_count": 14,
     "metadata": {},
     "output_type": "execute_result"
    }
   ],
   "source": [
    "# check your results\n",
    "curate_persons_data(filename=\"person_data.txt\")\n",
    "### values expected results\n",
    "### persons_df.values\n",
    "# array([['David', 185.0, 80.0, 23.4],\n",
    "#       ['Stephen', 190.0, 91.0, 25.2],\n",
    "#       ['Cynthia', 174.0, 73.0, 24.1],\n",
    "#       ['Stephanie', 149.0, 52.0, 23.4],\n",
    "#       ['Jessie', 175.0, 75.0, 24.5]], dtype=object)\n",
    "### persons_df.columns\n",
    "# Index(['name', 'height', 'weight', 'BMI'], dtype='object')\n",
    "### persons_df.index\n",
    "# Index(['Reed', 'Jones', 'Watson', 'Smith', 'Morgan'], dtype='object', name='surname')"
   ]
  },
  {
   "cell_type": "code",
   "execution_count": 15,
   "id": "technological-logan",
   "metadata": {
    "nbgrader": {
     "grade": true,
     "grade_id": "cell-9fc7b28b8fc52ebd",
     "locked": true,
     "points": 2,
     "schema_version": 3,
     "solution": false,
     "task": false
    }
   },
   "outputs": [],
   "source": [
    "# grading your results\n",
    "np.testing.assert_almost_equal(curate_persons_data(filename=\"person_data.txt\")['BMI'].values, np.array([23.4, 25.2, 24.1, 23.4, 24.5]))\n",
    "### BEGIN HIDDEN TESTS\n",
    "assert curate_persons_data(filename=\"person_data.txt\")['name'].values.tolist() == ['David', 'Stephen', 'Cynthia', 'Stephanie', 'Jessie']\n",
    "### END HIDDEN TESTS"
   ]
  },
  {
   "cell_type": "markdown",
   "id": "arranged-resistance",
   "metadata": {
    "nbgrader": {
     "grade": false,
     "grade_id": "cell-66944a9d1ad4ff95",
     "locked": true,
     "schema_version": 3,
     "solution": false,
     "task": false
    }
   },
   "source": [
    "### Task 5\n",
    "\n",
    "### Debugging\n",
    "\n",
    "While coding we inevitably run into errors. Therefore, it is important to be able to find bugs and understand error messages.\n",
    "\n",
    "**debug the following code**\n",
    "- find all bugs (4) \n",
    "- Hint: To find all bugs you also have to run the \"check your results cell\" as well\n",
    "- run the code"
   ]
  },
  {
   "cell_type": "code",
   "execution_count": 16,
   "id": "developing-grammar",
   "metadata": {
    "nbgrader": {
     "grade": false,
     "grade_id": "cell-9bffe1ce205f7143",
     "locked": true,
     "schema_version": 3,
     "solution": false,
     "task": false
    },
    "tags": [
     "raises-exception"
    ]
   },
   "outputs": [
    {
     "ename": "SyntaxError",
     "evalue": "invalid syntax (<ipython-input-16-7f1b61eaf201>, line 10)",
     "output_type": "error",
     "traceback": [
      "\u001b[0;36m  File \u001b[0;32m\"<ipython-input-16-7f1b61eaf201>\"\u001b[0;36m, line \u001b[0;32m10\u001b[0m\n\u001b[0;31m    if len(a) < n and n<0\u001b[0m\n\u001b[0m                         ^\u001b[0m\n\u001b[0;31mSyntaxError\u001b[0m\u001b[0;31m:\u001b[0m invalid syntax\n"
     ]
    }
   ],
   "source": [
    "# write a function that finds nth smallest element\n",
    "# this is an incorrect implementation\n",
    "\n",
    "def nth_smallest(a, n):\n",
    "    \"\"\"input:\n",
    "        a list of numbers\n",
    "        n integer\n",
    "    note: check for reasonable input parameters\n",
    "    return None otherwise (e.g., finding 5th smallest element in a list of 3 elements)\"\"\"\n",
    "    if len(a) < n and n<0\n",
    "        return\n",
    "    a = sorted(n)\n",
    "    return a[n]"
   ]
  },
  {
   "cell_type": "code",
   "execution_count": 17,
   "id": "complex-minneapolis",
   "metadata": {
    "nbgrader": {
     "grade": false,
     "grade_id": "cell-981ec2074a6824bb",
     "locked": false,
     "schema_version": 3,
     "solution": true,
     "task": false
    }
   },
   "outputs": [],
   "source": [
    "# implement a corrected (debugged) solution for nth_smallest here\n",
    "\n",
    "\n",
    "def nth_smallest(a, n):\n",
    "    ### BEGIN SOLUTION \n",
    "    if len(a) <= n or n<0:return\n",
    "    a = sorted(a)\n",
    "    return a[n]\n",
    "    ### END SOLUTION "
   ]
  },
  {
   "cell_type": "code",
   "execution_count": 18,
   "id": "weird-fiber",
   "metadata": {
    "nbgrader": {
     "grade": false,
     "grade_id": "cell-535264355ee8e4bb",
     "locked": true,
     "schema_version": 3,
     "solution": false,
     "task": false
    }
   },
   "outputs": [
    {
     "data": {
      "text/plain": [
       "(-1, 2, 3, None, None)"
      ]
     },
     "execution_count": 18,
     "metadata": {},
     "output_type": "execute_result"
    }
   ],
   "source": [
    "# check your solution\n",
    "a = [5,2,6,8,18,4,-1,3]\n",
    "nth_smallest(a,0), nth_smallest(a,1), nth_smallest(a,2), nth_smallest(a,100), nth_smallest(a,-10)\n",
    "# expected result\n",
    "# (-1, 2, 3, None, None)"
   ]
  },
  {
   "cell_type": "code",
   "execution_count": 19,
   "id": "isolated-concentrate",
   "metadata": {
    "nbgrader": {
     "grade": true,
     "grade_id": "cell-ebbcbcd747be5cc4",
     "locked": true,
     "points": 2,
     "schema_version": 3,
     "solution": false,
     "task": false
    }
   },
   "outputs": [],
   "source": [
    "# grading your results\n",
    "a = [5,2,6,8,18,4,-1,3]\n",
    "assert nth_smallest(a,0) == -1\n",
    "assert nth_smallest(a,1) == 2\n",
    "### BEGIN HIDDEN TESTS\n",
    "a = [1,1,4,5,5,1,2,2,3,6,9,8,7]\n",
    "for i in range(len(a)):\n",
    "    assert nth_smallest(a,i) == sorted(a)[i]\n",
    "    \n",
    "a = [1,5,1,4,5,1,2,3,6,2,7,8,9]\n",
    "for i in range(-5,len(a)+5):\n",
    "    if i<0 or i>=len(a):\n",
    "        assert nth_smallest(a,i) is None\n",
    "    else:\n",
    "        assert nth_smallest(a,i) == sorted(a)[i]\n",
    "### END HIDDEN TESTS"
   ]
  },
  {
   "cell_type": "code",
   "execution_count": null,
   "id": "phantom-saying",
   "metadata": {},
   "outputs": [],
   "source": []
  }
 ],
 "metadata": {
  "celltoolbar": "Edit Metadata",
  "kernelspec": {
   "display_name": "Python 3",
   "language": "python",
   "name": "python3"
  },
  "language_info": {
   "codemirror_mode": {
    "name": "ipython",
    "version": 3
   },
   "file_extension": ".py",
   "mimetype": "text/x-python",
   "name": "python",
   "nbconvert_exporter": "python",
   "pygments_lexer": "ipython3",
   "version": "3.8.10"
  }
 },
 "nbformat": 4,
 "nbformat_minor": 5
}
