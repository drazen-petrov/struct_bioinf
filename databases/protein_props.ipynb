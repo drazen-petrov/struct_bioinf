{
 "cells": [
  {
   "cell_type": "markdown",
   "metadata": {},
   "source": [
    "# Exercise 2 - databases, molecular modelling\n",
    "The goal of this exercise is to:\n",
    "* extract data from different databases (e.g. uniprot, chembl)\n",
    "* calculate simple properties from protein structure\n",
    "\n",
    "partially based on <br>\n",
    "https://github.com/volkamerlab/TeachOpenCADD <br>\n",
    "https://jcheminf.biomedcentral.com/articles/10.1186/s13321-019-0351-x"
   ]
  },
  {
   "cell_type": "markdown",
   "metadata": {},
   "source": [
    "## Protein properties"
   ]
  },
  {
   "cell_type": "code",
   "execution_count": 1,
   "metadata": {},
   "outputs": [],
   "source": [
    "#import and launching of pymol\n",
    "import pymol\n",
    "pymol.finish_launching(['pymol', '-qci'])\n",
    "#pymol.finish_launching(['pymol', '-c'])\n",
    "from pymol import cmd\n"
   ]
  },
  {
   "cell_type": "code",
   "execution_count": 2,
   "metadata": {},
   "outputs": [
    {
     "data": {
      "text/plain": [
       "'3pyy'"
      ]
     },
     "execution_count": 2,
     "metadata": {},
     "output_type": "execute_result"
    }
   ],
   "source": [
    "pymol.cmd.fetch('3pyy', type = 'pdb') # get one of the pdb files (ABL1 tyrosine kinase)"
   ]
  },
  {
   "cell_type": "code",
   "execution_count": 3,
   "metadata": {},
   "outputs": [
    {
     "data": {
      "text/plain": [
       "27643.7578125"
      ]
     },
     "execution_count": 3,
     "metadata": {},
     "output_type": "execute_result"
    }
   ],
   "source": [
    "pymol.cmd.get_area('3pyy and chain A') # calculate SASA"
   ]
  },
  {
   "cell_type": "raw",
   "metadata": {},
   "source": [
    "There are plenty of external features that can be imported in pymol \n",
    "This is one of the most comprehensive repository\n",
    "https://github.com/Pymol-Scripts/Pymol-script-repo"
   ]
  },
  {
   "cell_type": "code",
   "execution_count": 4,
   "metadata": {},
   "outputs": [
    {
     "data": {
      "text/plain": [
       "<function __main__.get_com(selection, state=1, mass=None, quiet=1)>"
      ]
     },
     "execution_count": 4,
     "metadata": {},
     "output_type": "execute_result"
    }
   ],
   "source": [
    "##from https://pymolwiki.org/index.php/Center_of_mass\n",
    "def get_com(selection, state=1, mass=None, quiet=1):\n",
    "    \"\"\"\n",
    " DESCRIPTION\n",
    "\n",
    "    Calculates the center of mass\n",
    "\n",
    "    Author: Sean Law\n",
    "    Michigan State University\n",
    "    slaw (at) msu . edu\n",
    "    \"\"\"\n",
    "    quiet = int(quiet)\n",
    "\n",
    "    totmass = 0.0\n",
    "    if mass != None and not quiet:\n",
    "        print(\"Calculating mass-weighted COM\")\n",
    "\n",
    "    state = int(state)\n",
    "    model = cmd.get_model(selection, state)\n",
    "    x, y, z = 0, 0, 0\n",
    "    for a in model.atom:\n",
    "        if (mass != None):\n",
    "            m = a.get_mass()\n",
    "            x += a.coord[0] * m\n",
    "            y += a.coord[1] * m\n",
    "            z += a.coord[2] * m\n",
    "            totmass += m\n",
    "        else:\n",
    "            x += a.coord[0]\n",
    "            y += a.coord[1]\n",
    "            z += a.coord[2]\n",
    "\n",
    "    if (mass != None):\n",
    "        return x / totmass, y / totmass, z / totmass\n",
    "    else:\n",
    "        return x / len(model.atom), y / len(model.atom), z / len(model.atom)\n",
    "\n",
    "cmd.extend(\"get_com\", get_com)\n"
   ]
  },
  {
   "cell_type": "code",
   "execution_count": 5,
   "metadata": {},
   "outputs": [],
   "source": [
    "# if cmd.extend(\"get_com\", get_com) command didn't work, one can add the function like this\n",
    "cmd.get_com = get_com"
   ]
  },
  {
   "cell_type": "code",
   "execution_count": 6,
   "metadata": {},
   "outputs": [
    {
     "data": {
      "text/plain": [
       "(17.427212702787735, -3.3854455429226746, -20.09767323837569)"
      ]
     },
     "execution_count": 6,
     "metadata": {},
     "output_type": "execute_result"
    }
   ],
   "source": [
    "cmd.get_com('chain A') # center of mass of chain A"
   ]
  },
  {
   "cell_type": "code",
   "execution_count": 7,
   "metadata": {},
   "outputs": [],
   "source": [
    "# let’s import a few more structure of ABL1\n",
    "pdb_ids = ['3pyy', '5mo4', '6hd4']\n",
    "for pdb_id in pdb_ids:\n",
    "    cmd.fetch(pdb_id, type = 'pdb')"
   ]
  },
  {
   "cell_type": "code",
   "execution_count": 8,
   "metadata": {},
   "outputs": [
    {
     "name": "stdout",
     "output_type": "stream",
     "text": [
      "(0.49217256903648376, 1532, 5, 1.659255027770996, 1966, 1286.0, 247)\n"
     ]
    }
   ],
   "source": [
    "# alignment = translate + rotate to minimize RMSD\n",
    "print(cmd.align('5mo4 and chain A', '3pyy and chain A'))"
   ]
  },
  {
   "cell_type": "markdown",
   "metadata": {},
   "source": [
    "This returns a list with 7 items:\n",
    "\n",
    "* RMSD after refinement\n",
    "* Number of aligned atoms after refinement\n",
    "* Number of refinement cycles\n",
    "* RMSD before refinement\n",
    "* Number of aligned atoms before refinement\n",
    "* Raw alignment score\n",
    "* Number of residues aligned"
   ]
  },
  {
   "cell_type": "code",
   "execution_count": 9,
   "metadata": {},
   "outputs": [
    {
     "name": "stdout",
     "output_type": "stream",
     "text": [
      "('3pyy', '5mo4')\n",
      "(0.492172509431839, 1532, 5, 1.659255027770996, 1966, 1286.0, 247)\n",
      "('3pyy', '6hd4')\n",
      "(0.3147238492965698, 1581, 5, 1.353930115699768, 2132, 1403.0, 265)\n",
      "('5mo4', '6hd4')\n",
      "(0.47931352257728577, 1658, 5, 2.148344039916992, 2085, 1355.5, 262)\n"
     ]
    }
   ],
   "source": [
    "# calculate all pairwise RMSDs\n",
    "rmsd_linear = []\n",
    "from itertools import combinations\n",
    "for pdb_pair in combinations(pdb_ids,2):\n",
    "    print(pdb_pair)\n",
    "    result = cmd.align(pdb_pair[0] + ' and chain A', pdb_pair[1] + ' and chain A')\n",
    "    print(result)\n",
    "    rmsd_linear.append(result[0])#rmsd is the fist number"
   ]
  },
  {
   "cell_type": "code",
   "execution_count": 10,
   "metadata": {},
   "outputs": [],
   "source": [
    "from scipy.cluster.hierarchy import dendrogram, linkage, single, complete, average"
   ]
  },
  {
   "cell_type": "code",
   "execution_count": 12,
   "metadata": {},
   "outputs": [
    {
     "data": {
      "text/plain": [
       "array([[0.        , 0.49217251, 0.31472385],\n",
       "       [0.49217251, 0.        , 0.47931352],\n",
       "       [0.31472385, 0.47931352, 0.        ]])"
      ]
     },
     "execution_count": 12,
     "metadata": {},
     "output_type": "execute_result"
    }
   ],
   "source": [
    "# make a 3x3 distance matrix\n",
    "import numpy as np\n",
    "rmsd_matrix = np.zeros((3,3))\n",
    "c = 0\n",
    "for i in range(2):\n",
    "    for j in range(i+1,3):\n",
    "        rmsd_matrix[i][j] = rmsd_linear[c]\n",
    "        rmsd_matrix[j][i] = rmsd_linear[c]\n",
    "        c+=1\n",
    "\n",
    "rmsd_matrix # nicer representation of distances between each of the structures"
   ]
  },
  {
   "cell_type": "code",
   "execution_count": 13,
   "metadata": {},
   "outputs": [
    {
     "name": "stdout",
     "output_type": "stream",
     "text": [
      "[[0.         2.         0.31472385 2.        ]\n",
      " [1.         3.         0.48574302 3.        ]]\n"
     ]
    }
   ],
   "source": [
    "# perform clustering using average linkage\n",
    "z = average(rmsd_linear) # scipy.cluster functions take the set of distances in a linear form\n",
    "print(z) \n",
    "# z contains information about N-1 steps in of clustering\n",
    "# for each step (iteration), fist 2 number represent 2 clusters that were merged,\n",
    "# third number is the distance between them\n",
    "# and the last is number of structures in the newly formed cluster"
   ]
  },
  {
   "cell_type": "code",
   "execution_count": 16,
   "metadata": {},
   "outputs": [
    {
     "data": {
      "image/png": "[encoded data removed]",
      "text/plain": [
       "<Figure size 432x288 with 1 Axes>"
      ]
     },
     "metadata": {
      "needs_background": "light"
     },
     "output_type": "display_data"
    }
   ],
   "source": [
    "from matplotlib import pyplot as plt\n",
    "dendrogram(z)\n",
    "plt.show()"
   ]
  },
  {
   "cell_type": "markdown",
   "metadata": {},
   "source": [
    "# Exercises & Questions\n",
    "## Required\n",
    "Choose one uniprot ID (preferably the same as you did in the first exercise).\n",
    "* Extract PDB codes related to the protein using uniprot xml format. How does this list compare to the list extracted directly from PDB (Exercise 1)?\n",
    "* Calculate the SASA (area) of each of these structures and plot a distribution of these values (histogram). Why are they so different? See \"Additional tasks\" section for hints... Also, there is a small chance that the SASA values would not be so different. Ignore the comment in this case.\n",
    "* Calculate the distance between all pairs of atoms in one of the structures and find the average distance as well as the maximum distance (also extract which pair of atoms is the most distant). You can use functions from the first exercise, but using pymol functions (e.g. dist) would also work.\n",
    "* Extract small molecules with available experimental data (IC50 / Kd / Ki, select 2 groups – make sure that the groups are big enough – say at least 50 or 100 compounds) for the protein of interest. Sort them and calculate the mass of 10 most active compounds in each of the groups.\n",
    "\n",
    "## Additional (at least one of the three)\n",
    "* For each of the pdb codes, extract for which part (sequence numbers) of the protein the structure is actually solved (from UNIPROT xml format). Select a part of the sequence (e.g. 200-400, or whatever might be reasonable for your protein) and find a subgroup of pdb codes that report structures of this part. In other words, select only pdb structures that provide structures of the same domain (part) of the protein. Are SASAs comparable for this subgroup?\n",
    "* Calculate pairwise RMSDs for all pairs of structures and cluster them. If you did the first additional exercise, perform clustering on that set. How many clusters did you find?\n",
    "* Filter out compounds from the set extracted from chembl database (task 4) using Lipinski’s rule of 5. See talktorial 2 from \n",
    "https://jcheminf.biomedcentral.com/articles/10.1186/s13321-019-0351-x).\n"
   ]
  },
  {
   "cell_type": "code",
   "execution_count": null,
   "metadata": {},
   "outputs": [],
   "source": []
  }
 ],
 "metadata": {
  "kernelspec": {
   "display_name": "Python 3 (ipykernel)",
   "language": "python",
   "name": "python3"
  },
  "language_info": {
   "codemirror_mode": {
    "name": "ipython",
    "version": 3
   },
   "file_extension": ".py",
   "mimetype": "text/x-python",
   "name": "python",
   "nbconvert_exporter": "python",
   "pygments_lexer": "ipython3",
   "version": "3.7.13"
  }
 },
 "nbformat": 4,
 "nbformat_minor": 4
}
