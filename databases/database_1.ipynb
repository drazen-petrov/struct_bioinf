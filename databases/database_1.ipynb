{
 "cells": [
  {
   "cell_type": "markdown",
   "metadata": {},
   "source": [
    "# PDB\n",
    "The goal of this exercise is to extract and analyse pdb files<br>\n",
    "We will learn how to:\n",
    "* perform queries to the pdb database\n",
    "* extract pdb IDs – each structure is defined by its ID code\n",
    "* extract information about structures\n",
    "* perform different analyses (e.g. find  structure with lowest resolution)\n",
    "\n",
    "partially based on <br>\n",
    "https://github.com/volkamerlab/TeachOpenCADD <br>\n",
    "https://jcheminf.biomedcentral.com/articles/10.1186/s13321-019-0351-x"
   ]
  },
  {
   "cell_type": "code",
   "execution_count": 1,
   "metadata": {},
   "outputs": [],
   "source": [
    "# import needed libraries\n",
    "import math\n",
    "import pypdb\n",
    "import requests\n",
    "import json\n",
    "\n",
    "import pandas as pd\n",
    "import numpy as np\n",
    "\n",
    "import matplotlib.pyplot as plt\n",
    "\n"
   ]
  },
  {
   "cell_type": "markdown",
   "metadata": {},
   "source": [
    "# PDB Protein Data Bank\n",
    "https://www.rcsb.org/"
   ]
  },
  {
   "cell_type": "markdown",
   "metadata": {},
   "source": [
    "let's take a look at the human tyrosine-protein kinase ABL1<br>\n",
    "its uniprot id is P00519<br>\n",
    "you can also check it out at https://www.uniprot.org/uniprot/P00519"
   ]
  },
  {
   "cell_type": "markdown",
   "metadata": {},
   "source": [
    "To perform a search in the PDB database, copy the uniprot id (P00519) to the search box at https://www.rcsb.org/"
   ]
  },
  {
   "cell_type": "markdown",
   "metadata": {},
   "source": [
    "### Programmatic access to PDB\n",
    "\n",
    "While performing search over the website is straightforward, making repeated searches to systematically analyze structures of interest is only possible using a programmatic access.\n",
    "\n",
    "\n",
    "Details available:\n",
    "\n",
    "\n",
    "https://www.rcsb.org/docs/programmatic-access/web-services-overview <br>\n",
    "https://search.rcsb.org/index.html#basic-queries"
   ]
  },
  {
   "cell_type": "code",
   "execution_count": 2,
   "metadata": {},
   "outputs": [],
   "source": [
    "# prepare search parameters using the uniprot ID of ABL1 (P00519)\n",
    "search_dict = {\n",
    "  \"query\": {\n",
    "    \"type\": \"terminal\",\n",
    "    \"service\": \"full_text\",\n",
    "    \"parameters\": {\n",
    "      \"value\": \"P00519\"\n",
    "    }\n",
    "  },\n",
    "  \"return_type\": \"entry\",\n",
    "  \"request_options\": {\n",
    "    \"paginate\": {\n",
    "      \"start\": 0,\n",
    "      \"rows\": 100000\n",
    "    }\n",
    "  }\n",
    "}"
   ]
  },
  {
   "cell_type": "code",
   "execution_count": 3,
   "metadata": {},
   "outputs": [
    {
     "data": {
      "text/plain": [
       "dict_keys(['query_id', 'result_type', 'total_count', 'result_set'])"
      ]
     },
     "execution_count": 3,
     "metadata": {},
     "output_type": "execute_result"
    }
   ],
   "source": [
    "# performing the search\n",
    "response = requests.get('https://search.rcsb.org/rcsbsearch/v2/query?json=' + json.dumps(search_dict))\n",
    "data = response.json()\n",
    "# printing the keys of the retreived dictionary\n",
    "data.keys()"
   ]
  },
  {
   "cell_type": "code",
   "execution_count": 4,
   "metadata": {},
   "outputs": [
    {
     "data": {
      "text/plain": [
       "(76, 76)"
      ]
     },
     "execution_count": 4,
     "metadata": {},
     "output_type": "execute_result"
    }
   ],
   "source": [
    "# showing the total number of hits (how does this compare to the search performed on the website directly?)\n",
    "data['total_count'], len(data['result_set'])"
   ]
  },
  {
   "cell_type": "code",
   "execution_count": 5,
   "metadata": {},
   "outputs": [
    {
     "data": {
      "text/plain": [
       "{'identifier': '1AB2', 'score': 1.0}"
      ]
     },
     "execution_count": 5,
     "metadata": {},
     "output_type": "execute_result"
    }
   ],
   "source": [
    "data['result_set'][0]"
   ]
  },
  {
   "cell_type": "code",
   "execution_count": 6,
   "metadata": {},
   "outputs": [],
   "source": [
    "def exctract_pdb_ids(search_result):\n",
    "    pdb_IDs = []\n",
    "    for entry in search_result['result_set']:\n",
    "        pdb_IDs.append(entry['identifier'])\n",
    "    return pdb_IDs\n",
    "\n",
    "found_pdb_ids = exctract_pdb_ids(data)"
   ]
  },
  {
   "cell_type": "code",
   "execution_count": 7,
   "metadata": {},
   "outputs": [
    {
     "name": "stdout",
     "output_type": "stream",
     "text": [
      "76\n"
     ]
    }
   ],
   "source": [
    "# here we look at how many hits we got\n",
    "print(len(found_pdb_ids))"
   ]
  },
  {
   "cell_type": "code",
   "execution_count": 8,
   "metadata": {},
   "outputs": [
    {
     "name": "stdout",
     "output_type": "stream",
     "text": [
      "['1AB2', '4J9B', '4J9C', '4J9E', '4J9H']\n"
     ]
    }
   ],
   "source": [
    "# here we look at the first 5 pdb codes\n",
    "print(found_pdb_ids[:5])"
   ]
  },
  {
   "cell_type": "code",
   "execution_count": 9,
   "metadata": {},
   "outputs": [
    {
     "name": "stdout",
     "output_type": "stream",
     "text": [
      "PDB id: 1AB2 \n",
      "\n",
      "audit_author\n",
      "citation\n",
      "entry\n",
      "exptl\n",
      "pdbx_audit_revision_category\n",
      "pdbx_audit_revision_details\n",
      "pdbx_audit_revision_group\n",
      "pdbx_audit_revision_history\n",
      "pdbx_audit_revision_item\n",
      "pdbx_database_status\n",
      "pdbx_nmr_ensemble\n",
      "pdbx_vrpt_summary\n",
      "rcsb_accession_info\n",
      "rcsb_entry_container_identifiers\n",
      "rcsb_entry_info\n",
      "rcsb_primary_citation\n",
      "struct\n",
      "struct_keywords\n",
      "rcsb_id\n"
     ]
    }
   ],
   "source": [
    "# let's take a look at some information about one of the strcutures from the list (PDB ID 7DT2)\n",
    "# it's a long list of info\n",
    "pdb_id = found_pdb_ids[0]\n",
    "pdb_info = pypdb.get_info(pdb_id)\n",
    "print('PDB id:', pdb_id,'\\n')\n",
    "for k in pdb_info:\n",
    "    #print(k,pdb_info[k],'\\n') # this line would print all the data available (long output)!\n",
    "    print(k) # here we just print the keys"
   ]
  },
  {
   "cell_type": "markdown",
   "metadata": {},
   "source": [
    "now try to do the same search direct on the PDB website https://www.rcsb.org/"
   ]
  },
  {
   "cell_type": "code",
   "execution_count": 10,
   "metadata": {},
   "outputs": [],
   "source": [
    "# let's extract some of the (interesting) information\n",
    "# of course, what is interesting depends on the project you are involved in\n",
    "# this is one example of such a function\n",
    "def extract_interesting_info(pdb_info):\n",
    "    pdb_id = pdb_info['rcsb_id']\n",
    "    desc = pdb_info['struct'].get('pdbx_descriptor')\n",
    "    title = pdb_info['struct']['title']\n",
    "    method = pdb_info['exptl'][0]['method']\n",
    "    date = pdb_info['rcsb_accession_info']['deposit_date']\n",
    "    num_atoms = pdb_info['rcsb_entry_info']['deposited_atom_count']\n",
    "    # only for X-ray\n",
    "    resolution, r, rfree = None, None, None\n",
    "    resolution = pdb_info['pdbx_vrpt_summary'].get('pdbresolution')\n",
    "    r = pdb_info['pdbx_vrpt_summary'].get('pdbr')\n",
    "    rfree = pdb_info['pdbx_vrpt_summary'].get('pdbrfree')\n",
    "    return pdb_id, desc, title, method, date, num_atoms, resolution, r, rfree"
   ]
  },
  {
   "cell_type": "code",
   "execution_count": 11,
   "metadata": {},
   "outputs": [
    {
     "name": "stdout",
     "output_type": "stream",
     "text": [
      "PDB id: 1AB2 \n",
      "\n"
     ]
    },
    {
     "data": {
      "text/plain": [
       "('1AB2',\n",
       " None,\n",
       " 'THREE-DIMENSIONAL SOLUTION STRUCTURE OF THE SRC HOMOLOGY 2 DOMAIN OF C-ABL',\n",
       " 'SOLUTION NMR',\n",
       " '1993-07-19T00:00:00+0000',\n",
       " 860,\n",
       " None,\n",
       " None,\n",
       " None)"
      ]
     },
     "execution_count": 11,
     "metadata": {},
     "output_type": "execute_result"
    }
   ],
   "source": [
    "pdb_id = found_pdb_ids[0]\n",
    "print('PDB id:', pdb_id,'\\n')\n",
    "\n",
    "extract_interesting_info(pypdb.get_info(pdb_id))"
   ]
  },
  {
   "cell_type": "code",
   "execution_count": 12,
   "metadata": {},
   "outputs": [],
   "source": [
    "# let’s collect data for all retrieved pdb codes\n",
    "pdb_data = []\n",
    "for pdb_id in found_pdb_ids:\n",
    "    #print(pdb_id)\n",
    "    #pdb_data.append(pypdb.describe_pdb(pdb_id))\n",
    "    pdb_data.append(extract_interesting_info(pypdb.get_info(pdb_id)))"
   ]
  },
  {
   "cell_type": "code",
   "execution_count": 13,
   "metadata": {},
   "outputs": [
    {
     "data": {
      "text/html": [
       "<div>\n",
       "<style scoped>\n",
       "    .dataframe tbody tr th:only-of-type {\n",
       "        vertical-align: middle;\n",
       "    }\n",
       "\n",
       "    .dataframe tbody tr th {\n",
       "        vertical-align: top;\n",
       "    }\n",
       "\n",
       "    .dataframe thead th {\n",
       "        text-align: right;\n",
       "    }\n",
       "</style>\n",
       "<table border=\"1\" class=\"dataframe\">\n",
       "  <thead>\n",
       "    <tr style=\"text-align: right;\">\n",
       "      <th></th>\n",
       "      <th>ID</th>\n",
       "      <th>desc</th>\n",
       "      <th>title</th>\n",
       "      <th>method</th>\n",
       "      <th>date</th>\n",
       "      <th>num_atoms</th>\n",
       "      <th>resolution</th>\n",
       "      <th>r</th>\n",
       "      <th>rfree</th>\n",
       "    </tr>\n",
       "  </thead>\n",
       "  <tbody>\n",
       "    <tr>\n",
       "      <th>0</th>\n",
       "      <td>1AB2</td>\n",
       "      <td>None</td>\n",
       "      <td>THREE-DIMENSIONAL SOLUTION STRUCTURE OF THE SR...</td>\n",
       "      <td>SOLUTION NMR</td>\n",
       "      <td>1993-07-19T00:00:00+0000</td>\n",
       "      <td>860</td>\n",
       "      <td>NaN</td>\n",
       "      <td>None</td>\n",
       "      <td>NaN</td>\n",
       "    </tr>\n",
       "    <tr>\n",
       "      <th>1</th>\n",
       "      <td>4J9B</td>\n",
       "      <td>Tyrosine-protein kinase ABL1 (E.C.2.7.10.2)</td>\n",
       "      <td>Crystal structure of the Abl-SH3 domain H59Q-N...</td>\n",
       "      <td>X-RAY DIFFRACTION</td>\n",
       "      <td>2013-02-16T00:00:00+0000</td>\n",
       "      <td>517</td>\n",
       "      <td>1.70</td>\n",
       "      <td>None</td>\n",
       "      <td>0.21</td>\n",
       "    </tr>\n",
       "    <tr>\n",
       "      <th>2</th>\n",
       "      <td>4J9C</td>\n",
       "      <td>Tyrosine-protein kinase ABL1 (E.C.2.7.10.2), P17</td>\n",
       "      <td>Crystal structure of the Abl-SH3 domain H59Q-N...</td>\n",
       "      <td>X-RAY DIFFRACTION</td>\n",
       "      <td>2013-02-16T00:00:00+0000</td>\n",
       "      <td>634</td>\n",
       "      <td>1.05</td>\n",
       "      <td>None</td>\n",
       "      <td>0.16</td>\n",
       "    </tr>\n",
       "    <tr>\n",
       "      <th>3</th>\n",
       "      <td>4J9E</td>\n",
       "      <td>PROTO-ONCOGENE TYROSINE-PROTEIN KINASE ABL1 (E...</td>\n",
       "      <td>Crystal structure of the N114A mutant of the A...</td>\n",
       "      <td>X-RAY DIFFRACTION</td>\n",
       "      <td>2013-02-16T00:00:00+0000</td>\n",
       "      <td>1745</td>\n",
       "      <td>1.40</td>\n",
       "      <td>None</td>\n",
       "      <td>0.19</td>\n",
       "    </tr>\n",
       "    <tr>\n",
       "      <th>4</th>\n",
       "      <td>4J9H</td>\n",
       "      <td>Tyrosine-protein kinase ABL1 (E.C.2.7.10.2), P7</td>\n",
       "      <td>Crystal structure of the ABL-SH3 domain comple...</td>\n",
       "      <td>X-RAY DIFFRACTION</td>\n",
       "      <td>2013-02-16T00:00:00+0000</td>\n",
       "      <td>3545</td>\n",
       "      <td>1.70</td>\n",
       "      <td>None</td>\n",
       "      <td>0.21</td>\n",
       "    </tr>\n",
       "  </tbody>\n",
       "</table>\n",
       "</div>"
      ],
      "text/plain": [
       "     ID                                               desc  \\\n",
       "0  1AB2                                               None   \n",
       "1  4J9B        Tyrosine-protein kinase ABL1 (E.C.2.7.10.2)   \n",
       "2  4J9C   Tyrosine-protein kinase ABL1 (E.C.2.7.10.2), P17   \n",
       "3  4J9E  PROTO-ONCOGENE TYROSINE-PROTEIN KINASE ABL1 (E...   \n",
       "4  4J9H    Tyrosine-protein kinase ABL1 (E.C.2.7.10.2), P7   \n",
       "\n",
       "                                               title             method  \\\n",
       "0  THREE-DIMENSIONAL SOLUTION STRUCTURE OF THE SR...       SOLUTION NMR   \n",
       "1  Crystal structure of the Abl-SH3 domain H59Q-N...  X-RAY DIFFRACTION   \n",
       "2  Crystal structure of the Abl-SH3 domain H59Q-N...  X-RAY DIFFRACTION   \n",
       "3  Crystal structure of the N114A mutant of the A...  X-RAY DIFFRACTION   \n",
       "4  Crystal structure of the ABL-SH3 domain comple...  X-RAY DIFFRACTION   \n",
       "\n",
       "                       date  num_atoms  resolution     r  rfree  \n",
       "0  1993-07-19T00:00:00+0000        860         NaN  None    NaN  \n",
       "1  2013-02-16T00:00:00+0000        517        1.70  None   0.21  \n",
       "2  2013-02-16T00:00:00+0000        634        1.05  None   0.16  \n",
       "3  2013-02-16T00:00:00+0000       1745        1.40  None   0.19  \n",
       "4  2013-02-16T00:00:00+0000       3545        1.70  None   0.21  "
      ]
     },
     "execution_count": 13,
     "metadata": {},
     "output_type": "execute_result"
    }
   ],
   "source": [
    "# now we store this data in a pandas dataframe\n",
    "pdbs = pd.DataFrame(pdb_data, columns = ['ID', 'desc', 'title', 'method', 'date', 'num_atoms', 'resolution', 'r', 'rfree'])\n",
    "pdbs.head()# this function outputs first 5 lines of a dataframe"
   ]
  },
  {
   "cell_type": "markdown",
   "metadata": {},
   "source": [
    "#### Let's make some plots\n",
    "looking at the release years and resolution of the structures"
   ]
  },
  {
   "cell_type": "code",
   "execution_count": 14,
   "metadata": {},
   "outputs": [],
   "source": [
    "pdbs.date = pd.to_datetime(pdbs.date)\n",
    "#pdbs.head().date"
   ]
  },
  {
   "cell_type": "code",
   "execution_count": 15,
   "metadata": {},
   "outputs": [
    {
     "data": {
      "text/plain": [
       "<AxesSubplot: xlabel='date'>"
      ]
     },
     "execution_count": 15,
     "metadata": {},
     "output_type": "execute_result"
    },
    {
     "data": {
      "image/png": "[encoded data removed]",
      "text/plain": [
       "<Figure size 640x480 with 1 Axes>"
      ]
     },
     "metadata": {},
     "output_type": "display_data"
    }
   ],
   "source": [
    "df = pdbs\n",
    "df[['date']].groupby(df[\"date\"].dt.year).count().plot(kind=\"bar\")"
   ]
  },
  {
   "cell_type": "code",
   "execution_count": 16,
   "metadata": {},
   "outputs": [
    {
     "name": "stdout",
     "output_type": "stream",
     "text": [
      "[1993, 2013, 2013, 2013, 2013]\n"
     ]
    }
   ],
   "source": [
    "years = []\n",
    "for rel_date in pdbs.date:\n",
    "    year = int(rel_date.year)\n",
    "    years.append(year)\n",
    "print(years[:5])"
   ]
  },
  {
   "cell_type": "code",
   "execution_count": 17,
   "metadata": {},
   "outputs": [
    {
     "data": {
      "text/plain": [
       "[1993, 1996, 1997, 1998, 2001]"
      ]
     },
     "execution_count": 17,
     "metadata": {},
     "output_type": "execute_result"
    }
   ],
   "source": [
    "sorted(years)[:5]"
   ]
  },
  {
   "cell_type": "code",
   "execution_count": 18,
   "metadata": {},
   "outputs": [
    {
     "data": {
      "text/plain": [
       "Text(0, 0.5, '# structures')"
      ]
     },
     "execution_count": 18,
     "metadata": {},
     "output_type": "execute_result"
    },
    {
     "data": {
      "image/png": "[encoded data removed]",
      "text/plain": [
       "<Figure size 640x480 with 1 Axes>"
      ]
     },
     "metadata": {},
     "output_type": "display_data"
    }
   ],
   "source": [
    "plt.hist(years)\n",
    "plt.xlabel('year')\n",
    "plt.ylabel('# structures')"
   ]
  },
  {
   "cell_type": "code",
   "execution_count": 19,
   "metadata": {},
   "outputs": [
    {
     "data": {
      "text/plain": [
       "Text(0, 0.5, '# structures')"
      ]
     },
     "execution_count": 19,
     "metadata": {},
     "output_type": "execute_result"
    },
    {
     "data": {
      "image/png": "[encoded data removed]",
      "text/plain": [
       "<Figure size 640x480 with 1 Axes>"
      ]
     },
     "metadata": {},
     "output_type": "display_data"
    }
   ],
   "source": [
    "plt.hist(years, bins = max(years) - min(years))\n",
    "plt.xlabel('year')\n",
    "plt.ylabel('# structures')"
   ]
  },
  {
   "cell_type": "code",
   "execution_count": 20,
   "metadata": {},
   "outputs": [],
   "source": [
    "pdbs['year'] = years"
   ]
  },
  {
   "cell_type": "code",
   "execution_count": 21,
   "metadata": {},
   "outputs": [
    {
     "data": {
      "text/html": [
       "<div>\n",
       "<style scoped>\n",
       "    .dataframe tbody tr th:only-of-type {\n",
       "        vertical-align: middle;\n",
       "    }\n",
       "\n",
       "    .dataframe tbody tr th {\n",
       "        vertical-align: top;\n",
       "    }\n",
       "\n",
       "    .dataframe thead th {\n",
       "        text-align: right;\n",
       "    }\n",
       "</style>\n",
       "<table border=\"1\" class=\"dataframe\">\n",
       "  <thead>\n",
       "    <tr style=\"text-align: right;\">\n",
       "      <th></th>\n",
       "      <th>date</th>\n",
       "      <th>year</th>\n",
       "      <th>resolution</th>\n",
       "    </tr>\n",
       "  </thead>\n",
       "  <tbody>\n",
       "    <tr>\n",
       "      <th>0</th>\n",
       "      <td>1993-07-19 00:00:00+00:00</td>\n",
       "      <td>1993</td>\n",
       "      <td>NaN</td>\n",
       "    </tr>\n",
       "    <tr>\n",
       "      <th>16</th>\n",
       "      <td>1996-11-17 00:00:00+00:00</td>\n",
       "      <td>1996</td>\n",
       "      <td>2.50</td>\n",
       "    </tr>\n",
       "    <tr>\n",
       "      <th>12</th>\n",
       "      <td>1997-10-03 00:00:00+00:00</td>\n",
       "      <td>1997</td>\n",
       "      <td>NaN</td>\n",
       "    </tr>\n",
       "    <tr>\n",
       "      <th>13</th>\n",
       "      <td>1998-04-28 00:00:00+00:00</td>\n",
       "      <td>1998</td>\n",
       "      <td>1.65</td>\n",
       "    </tr>\n",
       "    <tr>\n",
       "      <th>60</th>\n",
       "      <td>2001-08-23 00:00:00+00:00</td>\n",
       "      <td>2001</td>\n",
       "      <td>NaN</td>\n",
       "    </tr>\n",
       "    <tr>\n",
       "      <th>14</th>\n",
       "      <td>2003-03-06 00:00:00+00:00</td>\n",
       "      <td>2003</td>\n",
       "      <td>3.42</td>\n",
       "    </tr>\n",
       "    <tr>\n",
       "      <th>15</th>\n",
       "      <td>2005-06-14 00:00:00+00:00</td>\n",
       "      <td>2005</td>\n",
       "      <td>NaN</td>\n",
       "    </tr>\n",
       "    <tr>\n",
       "      <th>18</th>\n",
       "      <td>2005-11-23 00:00:00+00:00</td>\n",
       "      <td>2005</td>\n",
       "      <td>1.91</td>\n",
       "    </tr>\n",
       "    <tr>\n",
       "      <th>26</th>\n",
       "      <td>2006-08-08 00:00:00+00:00</td>\n",
       "      <td>2006</td>\n",
       "      <td>2.80</td>\n",
       "    </tr>\n",
       "    <tr>\n",
       "      <th>25</th>\n",
       "      <td>2006-08-08 00:00:00+00:00</td>\n",
       "      <td>2006</td>\n",
       "      <td>2.10</td>\n",
       "    </tr>\n",
       "  </tbody>\n",
       "</table>\n",
       "</div>"
      ],
      "text/plain": [
       "                        date  year  resolution\n",
       "0  1993-07-19 00:00:00+00:00  1993         NaN\n",
       "16 1996-11-17 00:00:00+00:00  1996        2.50\n",
       "12 1997-10-03 00:00:00+00:00  1997         NaN\n",
       "13 1998-04-28 00:00:00+00:00  1998        1.65\n",
       "60 2001-08-23 00:00:00+00:00  2001         NaN\n",
       "14 2003-03-06 00:00:00+00:00  2003        3.42\n",
       "15 2005-06-14 00:00:00+00:00  2005         NaN\n",
       "18 2005-11-23 00:00:00+00:00  2005        1.91\n",
       "26 2006-08-08 00:00:00+00:00  2006        2.80\n",
       "25 2006-08-08 00:00:00+00:00  2006        2.10"
      ]
     },
     "execution_count": 21,
     "metadata": {},
     "output_type": "execute_result"
    }
   ],
   "source": [
    "pdbs = pdbs.sort_values([\"year\"], \n",
    "                        ascending=True, \n",
    "                        na_position='last')\n",
    "pdbs[['date', 'year', 'resolution']].head(10)"
   ]
  },
  {
   "cell_type": "code",
   "execution_count": 22,
   "metadata": {},
   "outputs": [
    {
     "data": {
      "text/plain": [
       "Index(['ID', 'desc', 'title', 'method', 'date', 'num_atoms', 'resolution', 'r',\n",
       "       'rfree', 'year'],\n",
       "      dtype='object')"
      ]
     },
     "execution_count": 22,
     "metadata": {},
     "output_type": "execute_result"
    }
   ],
   "source": [
    "pdbs.keys()"
   ]
  },
  {
   "cell_type": "code",
   "execution_count": 23,
   "metadata": {},
   "outputs": [
    {
     "data": {
      "text/plain": [
       "array(['SOLUTION NMR', 'X-RAY DIFFRACTION'], dtype=object)"
      ]
     },
     "execution_count": 23,
     "metadata": {},
     "output_type": "execute_result"
    }
   ],
   "source": [
    "pdbs.method.unique()"
   ]
  },
  {
   "cell_type": "code",
   "execution_count": 24,
   "metadata": {},
   "outputs": [
    {
     "data": {
      "text/html": [
       "<div>\n",
       "<style scoped>\n",
       "    .dataframe tbody tr th:only-of-type {\n",
       "        vertical-align: middle;\n",
       "    }\n",
       "\n",
       "    .dataframe tbody tr th {\n",
       "        vertical-align: top;\n",
       "    }\n",
       "\n",
       "    .dataframe thead th {\n",
       "        text-align: right;\n",
       "    }\n",
       "</style>\n",
       "<table border=\"1\" class=\"dataframe\">\n",
       "  <thead>\n",
       "    <tr style=\"text-align: right;\">\n",
       "      <th></th>\n",
       "      <th>ID</th>\n",
       "      <th>desc</th>\n",
       "      <th>title</th>\n",
       "      <th>method</th>\n",
       "      <th>date</th>\n",
       "      <th>num_atoms</th>\n",
       "      <th>resolution</th>\n",
       "      <th>r</th>\n",
       "      <th>rfree</th>\n",
       "      <th>year</th>\n",
       "    </tr>\n",
       "  </thead>\n",
       "  <tbody>\n",
       "    <tr>\n",
       "      <th>16</th>\n",
       "      <td>2ABL</td>\n",
       "      <td>ABL TYROSINE KINASE</td>\n",
       "      <td>SH3-SH2 DOMAIN FRAGMENT OF HUMAN BCR-ABL TYROS...</td>\n",
       "      <td>X-RAY DIFFRACTION</td>\n",
       "      <td>1996-11-17 00:00:00+00:00</td>\n",
       "      <td>1321</td>\n",
       "      <td>2.50</td>\n",
       "      <td>None</td>\n",
       "      <td>0.27</td>\n",
       "      <td>1996</td>\n",
       "    </tr>\n",
       "    <tr>\n",
       "      <th>13</th>\n",
       "      <td>1BBZ</td>\n",
       "      <td>ABL TYROSINE KINASE, PEPTIDE P41</td>\n",
       "      <td>CRYSTAL STRUCTURE OF THE ABL-SH3 DOMAIN COMPLE...</td>\n",
       "      <td>X-RAY DIFFRACTION</td>\n",
       "      <td>1998-04-28 00:00:00+00:00</td>\n",
       "      <td>2415</td>\n",
       "      <td>1.65</td>\n",
       "      <td>None</td>\n",
       "      <td>0.27</td>\n",
       "      <td>1998</td>\n",
       "    </tr>\n",
       "    <tr>\n",
       "      <th>14</th>\n",
       "      <td>1OPL</td>\n",
       "      <td>None</td>\n",
       "      <td>Structural basis for the auto-inhibition of c-...</td>\n",
       "      <td>X-RAY DIFFRACTION</td>\n",
       "      <td>2003-03-06 00:00:00+00:00</td>\n",
       "      <td>6655</td>\n",
       "      <td>3.42</td>\n",
       "      <td>None</td>\n",
       "      <td>0.32</td>\n",
       "      <td>2003</td>\n",
       "    </tr>\n",
       "    <tr>\n",
       "      <th>18</th>\n",
       "      <td>2F4J</td>\n",
       "      <td>None</td>\n",
       "      <td>Structure of the Kinase Domain of an Imatinib-...</td>\n",
       "      <td>X-RAY DIFFRACTION</td>\n",
       "      <td>2005-11-23 00:00:00+00:00</td>\n",
       "      <td>2572</td>\n",
       "      <td>1.91</td>\n",
       "      <td>None</td>\n",
       "      <td>0.24</td>\n",
       "      <td>2005</td>\n",
       "    </tr>\n",
       "    <tr>\n",
       "      <th>26</th>\n",
       "      <td>2HZ4</td>\n",
       "      <td>Proto-oncogene tyrosine-protein kinase ABL1 (E...</td>\n",
       "      <td>Abl kinase domain unligated and in complex wit...</td>\n",
       "      <td>X-RAY DIFFRACTION</td>\n",
       "      <td>2006-08-08 00:00:00+00:00</td>\n",
       "      <td>6518</td>\n",
       "      <td>2.80</td>\n",
       "      <td>None</td>\n",
       "      <td>0.28</td>\n",
       "      <td>2006</td>\n",
       "    </tr>\n",
       "  </tbody>\n",
       "</table>\n",
       "</div>"
      ],
      "text/plain": [
       "      ID                                               desc  \\\n",
       "16  2ABL                                ABL TYROSINE KINASE   \n",
       "13  1BBZ                   ABL TYROSINE KINASE, PEPTIDE P41   \n",
       "14  1OPL                                               None   \n",
       "18  2F4J                                               None   \n",
       "26  2HZ4  Proto-oncogene tyrosine-protein kinase ABL1 (E...   \n",
       "\n",
       "                                                title             method  \\\n",
       "16  SH3-SH2 DOMAIN FRAGMENT OF HUMAN BCR-ABL TYROS...  X-RAY DIFFRACTION   \n",
       "13  CRYSTAL STRUCTURE OF THE ABL-SH3 DOMAIN COMPLE...  X-RAY DIFFRACTION   \n",
       "14  Structural basis for the auto-inhibition of c-...  X-RAY DIFFRACTION   \n",
       "18  Structure of the Kinase Domain of an Imatinib-...  X-RAY DIFFRACTION   \n",
       "26  Abl kinase domain unligated and in complex wit...  X-RAY DIFFRACTION   \n",
       "\n",
       "                        date  num_atoms  resolution     r  rfree  year  \n",
       "16 1996-11-17 00:00:00+00:00       1321        2.50  None   0.27  1996  \n",
       "13 1998-04-28 00:00:00+00:00       2415        1.65  None   0.27  1998  \n",
       "14 2003-03-06 00:00:00+00:00       6655        3.42  None   0.32  2003  \n",
       "18 2005-11-23 00:00:00+00:00       2572        1.91  None   0.24  2005  \n",
       "26 2006-08-08 00:00:00+00:00       6518        2.80  None   0.28  2006  "
      ]
     },
     "execution_count": 24,
     "metadata": {},
     "output_type": "execute_result"
    }
   ],
   "source": [
    "pdbs[pdbs.method=='X-RAY DIFFRACTION'].head()"
   ]
  },
  {
   "cell_type": "code",
   "execution_count": 25,
   "metadata": {},
   "outputs": [
    {
     "data": {
      "text/plain": [
       "16    2.50\n",
       "13    1.65\n",
       "14    3.42\n",
       "18    1.91\n",
       "26    2.80\n",
       "Name: resolution, dtype: float64"
      ]
     },
     "execution_count": 25,
     "metadata": {},
     "output_type": "execute_result"
    }
   ],
   "source": [
    "pdbs[pdbs.method=='X-RAY DIFFRACTION'].head().resolution"
   ]
  },
  {
   "cell_type": "code",
   "execution_count": 26,
   "metadata": {},
   "outputs": [
    {
     "data": {
      "text/plain": [
       "array([[<AxesSubplot: title={'center': 'resolution'}>]], dtype=object)"
      ]
     },
     "execution_count": 26,
     "metadata": {},
     "output_type": "execute_result"
    },
    {
     "data": {
      "image/png": "[encoded data removed]",
      "text/plain": [
       "<Figure size 640x480 with 1 Axes>"
      ]
     },
     "metadata": {},
     "output_type": "display_data"
    }
   ],
   "source": [
    "pdbs.hist(column = 'resolution')"
   ]
  },
  {
   "cell_type": "markdown",
   "metadata": {},
   "source": [
    "# Exercises & Questions\n",
    "## Required\n",
    "* Perform a PDB query on a protein of choice (e.g. from a uniprot ID or by textual input query) and retrieve the data from the PDB database - note to use a query that will lead to some tens or hundreds of structures\n",
    "* How many structures have you retrieved and how many of them are X-ray and how many NMR?\n",
    "* Sort the structures by the resolution\n",
    "* What is the min and max resolution\n",
    "* From the sorted list of the task above, report from which structures are they obtained.\n",
    "\n",
    "## Additional (at least one of the three)\n",
    "* chose one of the X-ray and one of the NMR structures and use pymol to visualize them (save visualizations as png files) - this task (pymol) only works on a local machine:<br>\n",
    "pymol selection algebra might be helpful for this task https://pymolwiki.org/index.php/Selection_Algebra\n",
    "   - visualize secondary structure elements\n",
    "   - zoom to the ligand (if present)\n",
    "   - for the X-ray structure, visualize b-factors by either changing the size of the atoms (spheres, see https://sourceforge.net/p/pymol/mailman/message/29616429/) or by color and cartoon thickness (see https://www.michaelchimenti.com/2014/09/five-cool-features-in-pymol-that-you-may-have-missed/)\n",
    "   - for the X-ray structure, visualize electron density map (it has to be obtained in a separate file, e.g. from PDB web page), using mesh representation (see L03_Xray presentation, slide 18)\n",
    "   - for the NMR structure, visualize the bundle. An NMR bundle is a set of structures that satisfy experimental data. This set of structures is reported within one PDB file.\n",
    "* plot the energy (similar to L02_energy_FF, slide 11) and the force as a function of the relevant coordinate (e.g. distance for the bond and angle for the angle term) for different FF terms using realist parameters (e.g. L02_energy_FF, slide 11 for the bonds) and compare them\n",
    "    - e.g. (bonds, angles, dihedrals and van der Waals)\n",
    "* Analyse pdb structures in more detail:\n",
    "    - plot B-factors (min, max, average) against resolution (scatter plot, where each point corresponds to one pdb code)\n",
    "    - extract ligands and draw chemical structures of some of them (see talktorial 8 from \n",
    "https://jcheminf.biomedcentral.com/articles/10.1186/s13321-019-0351-x)"
   ]
  },
  {
   "cell_type": "markdown",
   "metadata": {},
   "source": [
    "# Space for answers and solutions\n",
    "please provide your answers/soloutions below this cell"
   ]
  },
  {
   "cell_type": "code",
   "execution_count": null,
   "metadata": {},
   "outputs": [],
   "source": []
  },
  {
   "cell_type": "code",
   "execution_count": null,
   "metadata": {},
   "outputs": [],
   "source": []
  },
  {
   "cell_type": "code",
   "execution_count": null,
   "metadata": {},
   "outputs": [],
   "source": []
  }
 ],
 "metadata": {
  "kernelspec": {
   "display_name": "Python [conda env:anaconda3-structbioinf]",
   "language": "python",
   "name": "conda-env-anaconda3-structbioinf-py"
  },
  "language_info": {
   "codemirror_mode": {
    "name": "ipython",
    "version": 3
   },
   "file_extension": ".py",
   "mimetype": "text/x-python",
   "name": "python",
   "nbconvert_exporter": "python",
   "pygments_lexer": "ipython3",
   "version": "3.10.6"
  }
 },
 "nbformat": 4,
 "nbformat_minor": 4
}
