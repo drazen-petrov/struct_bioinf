{
 "cells": [
  {
   "cell_type": "markdown",
   "id": "0b4568e8-b73d-4219-80fd-05fa88179c6f",
   "metadata": {},
   "source": [
    "# Exercises & Questions\n",
    "## Required\n",
    "* Perform a query searching for pdb codes for a protein of choice (e.g. from a uniprot ID or by textual input query) \n",
    "* retrieve the data for individual pdb codes (e.g. method, resolution, etc.) - note to use a query that will lead to some tens or hundreds of structures\n",
    "* How many structures have you retrieved and how many of them are X-ray and how many NMR?\n",
    "* Sort the structures by the resolution\n",
    "* What is the min and max resolution\n",
    "* From the sorted list of the task above, report from which structures are they obtained.\n",
    "* Calculate the SASA (area) of each of these structures and plot a distribution of these values (histogram). Why are they so different? See \"Additional tasks\" section for hints... Also, there is a small chance that the SASA values would not be so different. Ignore the comment in this case.\n",
    "\n",
    "## Additional (at least one of the three)\n",
    "- if you've used PDB query, now use UNIPROT query and other way around (compare the results\n",
    "- use different format from UNIPROT (e.g. json)\n",
    "- For each of the pdb codes, extract for which part (sequence numbers) of the protein the structure is actually solved (from UNIPROT xml format). Select a part of the sequence (e.g. 200-400, or whatever might be reasonable for your protein) and find a subgroup of pdb codes that report structures of this part. In other words, select only pdb structures that provide structures of the same domain (part) of the protein. Are SASAs comparable for this subgroup?\n",
    "- Calculate pairwise RMSDs for all pairs of structures and cluster them. If you did the first additional exercise, perform clustering on that set. How many clusters did you find?\n",
    "\n"
   ]
  },
  {
   "cell_type": "code",
   "execution_count": null,
   "id": "0ea59f59-92e5-409a-a32c-60892c6a05f9",
   "metadata": {},
   "outputs": [],
   "source": []
  }
 ],
 "metadata": {
  "kernelspec": {
   "display_name": "Python [conda env:anaconda3-structbioinf]",
   "language": "python",
   "name": "conda-env-anaconda3-structbioinf-py"
  },
  "language_info": {
   "codemirror_mode": {
    "name": "ipython",
    "version": 3
   },
   "file_extension": ".py",
   "mimetype": "text/x-python",
   "name": "python",
   "nbconvert_exporter": "python",
   "pygments_lexer": "ipython3",
   "version": "3.10.6"
  }
 },
 "nbformat": 4,
 "nbformat_minor": 5
}
