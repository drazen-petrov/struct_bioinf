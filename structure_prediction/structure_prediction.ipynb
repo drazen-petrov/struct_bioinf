{
 "cells": [
  {
   "cell_type": "markdown",
   "id": "3724e5dc-3db9-41db-b891-21da9240ad71",
   "metadata": {},
   "source": [
    "# SWISS-MODEL\n",
    "\n",
    "## Required task\n",
    "Use SWISS-MODEL tool (https://swissmodel.expasy.org/) to predict structure from sequence:\n",
    "- chose a protein sequence of interest (e.g. from UNIPROT or some other database)\n",
    "\n",
    "## Additional task\n",
    "- use different templates for model building\n",
    "- use a similar sequence\n",
    "- compare the predicted structure to the one from the required task\n"
   ]
  },
  {
   "cell_type": "markdown",
   "id": "eab1282b-199e-4ab1-8656-8b8ada747988",
   "metadata": {},
   "source": [
    "# Alphafold\n",
    "use educational alphafold notebook to design protein structure https://colab.research.google.com/github/sokrypton/af_backprop/blob/beta/examples/AlphaFold_single.ipynb\n",
    "\n",
    "## Required task\n",
    "- design sequences that fold into the following structures (see figure below)\n",
    "\n",
    "## Additional tasks\n",
    "- design sequences that fold into:\n",
    "    - 4 helix bundle (take a look at e.g. 3VJF)\n",
    "    - beta barrel\n",
    "    - heme binding protein\n",
    "\n",
    "\n",
    "<img src=\"challenge1.png\" alt=\"Drawing\"/>"
   ]
  },
  {
   "cell_type": "markdown",
   "id": "0e0c5586-affa-4c98-b2d3-2375215a89ce",
   "metadata": {},
   "source": [
    "# Alphafold\n",
    "use educational alphafold notebook to disrupt protein structure https://colab.research.google.com/github/sokrypton/af_backprop/blob/beta/examples/AlphaFold_single.ipynb\n",
    "\n",
    "## Required task\n",
    "- find a (minumum) set of mutations to disrupt the designed protein structure (6mrr)\n",
    "\n",
    "## Additional tasks\n",
    "- find different set of mutations that disrupt the structure\n",
    "- find mutations to disrupt another protein structure (some other pdb code)\n",
    "- what is in common to disruptive mutations\n",
    "\n",
    "<img src=\"6mrr.png\" alt=\"Drawing\"/>"
   ]
  },
  {
   "cell_type": "markdown",
   "id": "3e719a15-d1cd-4801-94d0-f7136dfe16a4",
   "metadata": {},
   "source": [
    "# Useful statistics for design\n",
    "\n",
    "<img src=\"statistics.png\" alt=\"Drawing\"/>"
   ]
  },
  {
   "cell_type": "markdown",
   "id": "599141d5-25c5-4e6c-bee4-81afb7fd860b",
   "metadata": {},
   "source": [
    "# nglview\n",
    "a package that allows you to visualize 3D structures in jupyter"
   ]
  },
  {
   "cell_type": "code",
   "execution_count": 3,
   "id": "93ab3860-e021-47d6-99c8-83a39e0880b3",
   "metadata": {},
   "outputs": [
    {
     "data": {
      "application/vnd.jupyter.widget-view+json": {
       "model_id": "edeb2c45018f44a484d4f156ff3fb0c9",
       "version_major": 2,
       "version_minor": 0
      },
      "text/plain": [
       "NGLWidget()"
      ]
     },
     "metadata": {},
     "output_type": "display_data"
    }
   ],
   "source": [
    "# visualize 6mrr.pdb\n",
    "import nglview as nv\n",
    "view = nv.show_pdbid(\"6mrr\") # load structure from PDB\n",
    "view"
   ]
  },
  {
   "cell_type": "code",
   "execution_count": null,
   "id": "cad4ac97-6585-4148-85d0-688c36282249",
   "metadata": {},
   "outputs": [],
   "source": []
  }
 ],
 "metadata": {
  "kernelspec": {
   "display_name": "Python 3 (ipykernel)",
   "language": "python",
   "name": "python3"
  },
  "language_info": {
   "codemirror_mode": {
    "name": "ipython",
    "version": 3
   },
   "file_extension": ".py",
   "mimetype": "text/x-python",
   "name": "python",
   "nbconvert_exporter": "python",
   "pygments_lexer": "ipython3",
   "version": "3.7.13"
  }
 },
 "nbformat": 4,
 "nbformat_minor": 5
}
