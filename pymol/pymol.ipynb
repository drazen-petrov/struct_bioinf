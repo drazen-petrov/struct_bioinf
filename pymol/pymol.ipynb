{
 "cells": [
  {
   "cell_type": "markdown",
   "id": "388eb8cc-6531-494b-8e7e-0016334bd96c",
   "metadata": {},
   "source": [
    "# Biopandas"
   ]
  },
  {
   "cell_type": "code",
   "execution_count": 1,
   "id": "0ed26857-35dd-464e-9938-1f5623478029",
   "metadata": {},
   "outputs": [],
   "source": [
    "from biopandas.pdb import PandasPdb\n",
    "pdb_ID = '5OAZ'\n",
    "ppdb = PandasPdb().fetch_pdb(pdb_ID)"
   ]
  },
  {
   "cell_type": "code",
   "execution_count": 2,
   "id": "a42f9115-4ad8-44cb-ac60-ac2043c434e3",
   "metadata": {},
   "outputs": [
    {
     "data": {
      "text/html": [
       "<div>\n",
       "<style scoped>\n",
       "    .dataframe tbody tr th:only-of-type {\n",
       "        vertical-align: middle;\n",
       "    }\n",
       "\n",
       "    .dataframe tbody tr th {\n",
       "        vertical-align: top;\n",
       "    }\n",
       "\n",
       "    .dataframe thead th {\n",
       "        text-align: right;\n",
       "    }\n",
       "</style>\n",
       "<table border=\"1\" class=\"dataframe\">\n",
       "  <thead>\n",
       "    <tr style=\"text-align: right;\">\n",
       "      <th></th>\n",
       "      <th>record_name</th>\n",
       "      <th>atom_number</th>\n",
       "      <th>blank_1</th>\n",
       "      <th>atom_name</th>\n",
       "      <th>alt_loc</th>\n",
       "      <th>residue_name</th>\n",
       "      <th>blank_2</th>\n",
       "      <th>chain_id</th>\n",
       "      <th>residue_number</th>\n",
       "      <th>insertion</th>\n",
       "      <th>...</th>\n",
       "      <th>x_coord</th>\n",
       "      <th>y_coord</th>\n",
       "      <th>z_coord</th>\n",
       "      <th>occupancy</th>\n",
       "      <th>b_factor</th>\n",
       "      <th>blank_4</th>\n",
       "      <th>segment_id</th>\n",
       "      <th>element_symbol</th>\n",
       "      <th>charge</th>\n",
       "      <th>line_idx</th>\n",
       "    </tr>\n",
       "  </thead>\n",
       "  <tbody>\n",
       "    <tr>\n",
       "      <th>0</th>\n",
       "      <td>ATOM</td>\n",
       "      <td>1</td>\n",
       "      <td></td>\n",
       "      <td>N</td>\n",
       "      <td></td>\n",
       "      <td>ASP</td>\n",
       "      <td></td>\n",
       "      <td>A</td>\n",
       "      <td>62</td>\n",
       "      <td></td>\n",
       "      <td>...</td>\n",
       "      <td>30.532</td>\n",
       "      <td>20.375</td>\n",
       "      <td>-6.176</td>\n",
       "      <td>1.0</td>\n",
       "      <td>35.36</td>\n",
       "      <td></td>\n",
       "      <td></td>\n",
       "      <td>N</td>\n",
       "      <td>NaN</td>\n",
       "      <td>367</td>\n",
       "    </tr>\n",
       "    <tr>\n",
       "      <th>1</th>\n",
       "      <td>ATOM</td>\n",
       "      <td>2</td>\n",
       "      <td></td>\n",
       "      <td>CA</td>\n",
       "      <td></td>\n",
       "      <td>ASP</td>\n",
       "      <td></td>\n",
       "      <td>A</td>\n",
       "      <td>62</td>\n",
       "      <td></td>\n",
       "      <td>...</td>\n",
       "      <td>30.698</td>\n",
       "      <td>21.561</td>\n",
       "      <td>-7.008</td>\n",
       "      <td>1.0</td>\n",
       "      <td>34.10</td>\n",
       "      <td></td>\n",
       "      <td></td>\n",
       "      <td>C</td>\n",
       "      <td>NaN</td>\n",
       "      <td>369</td>\n",
       "    </tr>\n",
       "    <tr>\n",
       "      <th>2</th>\n",
       "      <td>ATOM</td>\n",
       "      <td>3</td>\n",
       "      <td></td>\n",
       "      <td>C</td>\n",
       "      <td></td>\n",
       "      <td>ASP</td>\n",
       "      <td></td>\n",
       "      <td>A</td>\n",
       "      <td>62</td>\n",
       "      <td></td>\n",
       "      <td>...</td>\n",
       "      <td>32.183</td>\n",
       "      <td>21.764</td>\n",
       "      <td>-7.323</td>\n",
       "      <td>1.0</td>\n",
       "      <td>31.43</td>\n",
       "      <td></td>\n",
       "      <td></td>\n",
       "      <td>C</td>\n",
       "      <td>NaN</td>\n",
       "      <td>371</td>\n",
       "    </tr>\n",
       "    <tr>\n",
       "      <th>3</th>\n",
       "      <td>ATOM</td>\n",
       "      <td>4</td>\n",
       "      <td></td>\n",
       "      <td>O</td>\n",
       "      <td></td>\n",
       "      <td>ASP</td>\n",
       "      <td></td>\n",
       "      <td>A</td>\n",
       "      <td>62</td>\n",
       "      <td></td>\n",
       "      <td>...</td>\n",
       "      <td>33.027</td>\n",
       "      <td>21.609</td>\n",
       "      <td>-6.438</td>\n",
       "      <td>1.0</td>\n",
       "      <td>30.82</td>\n",
       "      <td></td>\n",
       "      <td></td>\n",
       "      <td>O</td>\n",
       "      <td>NaN</td>\n",
       "      <td>373</td>\n",
       "    </tr>\n",
       "    <tr>\n",
       "      <th>4</th>\n",
       "      <td>ATOM</td>\n",
       "      <td>5</td>\n",
       "      <td></td>\n",
       "      <td>CB</td>\n",
       "      <td></td>\n",
       "      <td>ASP</td>\n",
       "      <td></td>\n",
       "      <td>A</td>\n",
       "      <td>62</td>\n",
       "      <td></td>\n",
       "      <td>...</td>\n",
       "      <td>30.139</td>\n",
       "      <td>22.788</td>\n",
       "      <td>-6.284</td>\n",
       "      <td>1.0</td>\n",
       "      <td>34.73</td>\n",
       "      <td></td>\n",
       "      <td></td>\n",
       "      <td>C</td>\n",
       "      <td>NaN</td>\n",
       "      <td>375</td>\n",
       "    </tr>\n",
       "  </tbody>\n",
       "</table>\n",
       "<p>5 rows × 21 columns</p>\n",
       "</div>"
      ],
      "text/plain": [
       "  record_name  atom_number blank_1 atom_name alt_loc residue_name blank_2  \\\n",
       "0        ATOM            1                 N                  ASP           \n",
       "1        ATOM            2                CA                  ASP           \n",
       "2        ATOM            3                 C                  ASP           \n",
       "3        ATOM            4                 O                  ASP           \n",
       "4        ATOM            5                CB                  ASP           \n",
       "\n",
       "  chain_id  residue_number insertion  ... x_coord  y_coord  z_coord  \\\n",
       "0        A              62            ...  30.532   20.375   -6.176   \n",
       "1        A              62            ...  30.698   21.561   -7.008   \n",
       "2        A              62            ...  32.183   21.764   -7.323   \n",
       "3        A              62            ...  33.027   21.609   -6.438   \n",
       "4        A              62            ...  30.139   22.788   -6.284   \n",
       "\n",
       "   occupancy  b_factor  blank_4 segment_id element_symbol charge  line_idx  \n",
       "0        1.0     35.36                                  N    NaN       367  \n",
       "1        1.0     34.10                                  C    NaN       369  \n",
       "2        1.0     31.43                                  C    NaN       371  \n",
       "3        1.0     30.82                                  O    NaN       373  \n",
       "4        1.0     34.73                                  C    NaN       375  \n",
       "\n",
       "[5 rows x 21 columns]"
      ]
     },
     "execution_count": 2,
     "metadata": {},
     "output_type": "execute_result"
    }
   ],
   "source": [
    "ppdb.df['ATOM'].head()"
   ]
  },
  {
   "cell_type": "code",
   "execution_count": 3,
   "id": "aecbe3d1-7b8c-481d-bafc-2ae1243721da",
   "metadata": {},
   "outputs": [
    {
     "data": {
      "text/plain": [
       "<AxesSubplot: ylabel='Frequency'>"
      ]
     },
     "execution_count": 3,
     "metadata": {},
     "output_type": "execute_result"
    },
    {
     "data": {
      "image/png": "[encoded data removed]",
      "text/plain": [
       "<Figure size 640x480 with 1 Axes>"
      ]
     },
     "metadata": {},
     "output_type": "display_data"
    }
   ],
   "source": [
    "ppdb.df['ATOM']['b_factor'].plot(kind='hist')"
   ]
  },
  {
   "cell_type": "code",
   "execution_count": 4,
   "id": "92e0874a-4c1a-4be0-b980-4ec7cab6a4f9",
   "metadata": {},
   "outputs": [
    {
     "data": {
      "text/plain": [
       "<AxesSubplot: >"
      ]
     },
     "execution_count": 4,
     "metadata": {},
     "output_type": "execute_result"
    },
    {
     "data": {
      "image/png": "[encoded data removed]",
      "text/plain": [
       "<Figure size 640x480 with 1 Axes>"
      ]
     },
     "metadata": {},
     "output_type": "display_data"
    }
   ],
   "source": [
    "ppdb.df['ATOM']['b_factor'].plot(kind='line')"
   ]
  },
  {
   "cell_type": "code",
   "execution_count": 5,
   "id": "13e7fb25-9d92-40d9-96a0-b19ec1e2672c",
   "metadata": {},
   "outputs": [
    {
     "data": {
      "text/plain": [
       "30.532"
      ]
     },
     "execution_count": 5,
     "metadata": {},
     "output_type": "execute_result"
    }
   ],
   "source": [
    "ppdb.df['ATOM'].x_coord[0]"
   ]
  },
  {
   "cell_type": "code",
   "execution_count": 7,
   "id": "41b85cc2-4a4d-4e1f-bcaf-dd5f5b87eef6",
   "metadata": {},
   "outputs": [
    {
     "data": {
      "text/html": [
       "<div>\n",
       "<style scoped>\n",
       "    .dataframe tbody tr th:only-of-type {\n",
       "        vertical-align: middle;\n",
       "    }\n",
       "\n",
       "    .dataframe tbody tr th {\n",
       "        vertical-align: top;\n",
       "    }\n",
       "\n",
       "    .dataframe thead th {\n",
       "        text-align: right;\n",
       "    }\n",
       "</style>\n",
       "<table border=\"1\" class=\"dataframe\">\n",
       "  <thead>\n",
       "    <tr style=\"text-align: right;\">\n",
       "      <th></th>\n",
       "      <th>x_coord</th>\n",
       "      <th>y_coord</th>\n",
       "      <th>z_coord</th>\n",
       "    </tr>\n",
       "  </thead>\n",
       "  <tbody>\n",
       "    <tr>\n",
       "      <th>0</th>\n",
       "      <td>30.532</td>\n",
       "      <td>20.375</td>\n",
       "      <td>-6.176</td>\n",
       "    </tr>\n",
       "    <tr>\n",
       "      <th>1</th>\n",
       "      <td>30.698</td>\n",
       "      <td>21.561</td>\n",
       "      <td>-7.008</td>\n",
       "    </tr>\n",
       "    <tr>\n",
       "      <th>2</th>\n",
       "      <td>32.183</td>\n",
       "      <td>21.764</td>\n",
       "      <td>-7.323</td>\n",
       "    </tr>\n",
       "    <tr>\n",
       "      <th>3</th>\n",
       "      <td>33.027</td>\n",
       "      <td>21.609</td>\n",
       "      <td>-6.438</td>\n",
       "    </tr>\n",
       "    <tr>\n",
       "      <th>4</th>\n",
       "      <td>30.139</td>\n",
       "      <td>22.788</td>\n",
       "      <td>-6.284</td>\n",
       "    </tr>\n",
       "  </tbody>\n",
       "</table>\n",
       "</div>"
      ],
      "text/plain": [
       "   x_coord  y_coord  z_coord\n",
       "0   30.532   20.375   -6.176\n",
       "1   30.698   21.561   -7.008\n",
       "2   32.183   21.764   -7.323\n",
       "3   33.027   21.609   -6.438\n",
       "4   30.139   22.788   -6.284"
      ]
     },
     "execution_count": 7,
     "metadata": {},
     "output_type": "execute_result"
    }
   ],
   "source": [
    "ppdb.df['ATOM'][['x_coord', 'y_coord', 'z_coord']].head()"
   ]
  },
  {
   "cell_type": "markdown",
   "id": "04b0e716-58a9-4c54-892b-16446e2dbf32",
   "metadata": {},
   "source": [
    "# Pymol docs and other sources\n",
    "\n",
    "http://www.bch.cuhk.edu.hk/kbwong/pymol/pymol_tutorial.html\n",
    "\n",
    "https://bioquest.org/nimbios2010/wp-content/blogs.dir/files/2010/07/pymol_tutorial3.pdf\n",
    "\n",
    "https://sites.pitt.edu/~epolinko/IntroPyMOL.pdf\n",
    "\n",
    "### Additional\n",
    "* pymol selection algebra is helpful many task https://pymolwiki.org/index.php/Selection_Algebra\n",
    "* gallery of nice visualizations https://bioquest.org/nimbios2010/wp-content/blogs.dir/files/2010/07/pymol_tutorial3.pdf\n"
   ]
  },
  {
   "cell_type": "markdown",
   "id": "f39ec0a6-3655-458b-9c8e-a3c1a20f72d9",
   "metadata": {},
   "source": [
    "# Exercises & Questions"
   ]
  },
  {
   "cell_type": "markdown",
   "id": "1bdda559-ea77-4c41-ace3-f7ba43b488cb",
   "metadata": {},
   "source": [
    "1. chose one of the X-ray and one of the NMR structures and use pymol to visualize them (save visualizations as png files):\n",
    "   - visualize secondary structure elements\n",
    "   - use different representation for visualization (cartoon, lines, surface...)\n",
    "   - zoom to the ligand (if present)\n",
    "   - for the X-ray structure, visualize b-factors by either changing the size of the atoms (spheres, see https://sourceforge.net/p/pymol/mailman/message/29616429/) or by color and cartoon thickness (see https://www.michaelchimenti.com/2014/09/five-cool-features-in-pymol-that-you-may-have-missed/)\n",
    "   - for the X-ray structure, visualize electron density map (it has to be obtained in a separate file, e.g. from PDB web page), using mesh representation (https://bioinformaticsreview.com/20221008/how-to-generate-electron-density-map-using-pymol/)\n",
    "   - for the NMR structure, visualize the bundle. An NMR bundle is a set of structures that satisfy experimental data. This set of structures is reported within one PDB file.\n",
    "1. Analyse pdb structures in more detail:\n",
    "    - plot B-factors (min, max, average) against resolution (scatter plot, where each point corresponds to one pdb code)\n",
    "    - calculate the solvent acessible surface area\n",
    "    - calculate distances between all pairs of atoms and find the longest distance"
   ]
  },
  {
   "cell_type": "code",
   "execution_count": null,
   "id": "7dede59c-b409-4f68-b9ed-6b96186d9752",
   "metadata": {},
   "outputs": [],
   "source": []
  }
 ],
 "metadata": {
  "kernelspec": {
   "display_name": "Python [conda env:anaconda3-structbioinf]",
   "language": "python",
   "name": "conda-env-anaconda3-structbioinf-py"
  },
  "language_info": {
   "codemirror_mode": {
    "name": "ipython",
    "version": 3
   },
   "file_extension": ".py",
   "mimetype": "text/x-python",
   "name": "python",
   "nbconvert_exporter": "python",
   "pygments_lexer": "ipython3",
   "version": "3.10.6"
  }
 },
 "nbformat": 4,
 "nbformat_minor": 5
}
